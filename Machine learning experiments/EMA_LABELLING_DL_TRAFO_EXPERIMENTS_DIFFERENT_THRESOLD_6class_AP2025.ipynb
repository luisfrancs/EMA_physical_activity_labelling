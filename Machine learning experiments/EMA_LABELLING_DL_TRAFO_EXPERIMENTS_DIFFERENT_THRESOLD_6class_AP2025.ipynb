{
 "cells": [
  {
   "cell_type": "markdown",
   "metadata": {
    "id": "ku9_jHMp9sA8"
   },
   "source": [
    "# EMA-LABELLING-DL_EXPERIMENTS_DIFFERENT-THRESOLDS (TRANSFORMER_ 6 classes)"
   ]
  },
  {
   "cell_type": "code",
   "execution_count": 3,
   "metadata": {
    "id": "pS1Vvcre9sA-"
   },
   "outputs": [],
   "source": [
    "'''Import libraries'''\n",
    "import mat73\n",
    "import numpy as np\n",
    "import seaborn as sns\n",
    "from numpy import where\n",
    "from sklearn.ensemble import RandomForestClassifier\n",
    "import matplotlib.pyplot as plt\n",
    "colors = plt.rcParams['axes.prop_cycle'].by_key()['color']\n",
    "import sklearn\n",
    "from numpy import argmax\n",
    "from sklearn.metrics import (roc_auc_score,accuracy_score,confusion_matrix, precision_recall_curve, auc,roc_curve, recall_score, classification_report, f1_score,\n",
    "                             precision_recall_fscore_support,balanced_accuracy_score)\n",
    "from imblearn.under_sampling import RandomUnderSampler\n",
    "\n",
    "import tensorflow as tf\n",
    "from tensorflow.keras.layers import BatchNormalization, Conv1D, Dense, Input,Flatten,Dropout,MaxPooling1D,GlobalAveragePooling1D,InputLayer,GaussianNoise\n",
    "from tensorflow.keras.regularizers import l1\n",
    "from tensorflow.keras import optimizers\n",
    "from tensorflow.keras import initializers\n",
    "from sklearn.utils import class_weight\n",
    "from tensorflow.keras.models import Sequential\n",
    "from tensorflow.keras.callbacks import EarlyStopping, ReduceLROnPlateau\n",
    "from tensorflow.keras.models import Model"
   ]
  },
  {
   "cell_type": "code",
   "execution_count": 4,
   "metadata": {
    "id": "lMH3BwIVNbWi"
   },
   "outputs": [],
   "source": [
    "'''Usefull fuctions'''\n",
    "\n",
    "'''Load data'''\n",
    "def load_EMA_data(data='PREPROCESED_CAPTURE24_ALL_DATA_EMA_LABELED_THRES_0_AP_V3.mat',as_float32=True):\n",
    "    fileName = data\n",
    "    mat = mat73.loadmat(fileName)#load v73 matlab files\n",
    "    data_X = mat['data']['data_AP']\n",
    "    label_y = mat['data']['label_EMA']\n",
    "    label_AP = mat['data']['label_AP']\n",
    "    idLOSO = mat['data']['id']\n",
    "    if as_float32:\n",
    "        data_X = data_X.astype(np.float32)\n",
    "    return (data_X,label_y,idLOSO,label_AP)\n",
    "\n",
    "'''Training-test_data selection'''\n",
    "def train_val_test(idx):\n",
    "    trainset= [1101, 1102, 1103, 1105, 1106, 1107, 1108, 1109, 1112, 1113, 1114, 1115,\n",
    "     1117, 1118, 1119, 1120, 1121, 1122, 1123, 1124, 1125, 1126, 1127, 1128,\n",
    "     1129, 1130, 1131, 1132, 1133, 1134, 1135, 1136, 1137, 1138, 1139, 1140,\n",
    "     1141, 1142, 1143, 1144, 1145, 1146, 1147, 1148, 1149, 1150, 1154, 1157,\n",
    "     1159, 1160, 1161, 1162, 1163, 1164, 1165, 1167, 1168, 1169, 1171, 1172,\n",
    "     1173, 1174, 1175, 1176, 1177, 1178, 1179, 1180, 1181, 1182, 1183, 1184,\n",
    "     1187, 1188, 1189, 1190, 1191, 1192, 1193, 1194, 1195, 1196, 1197, 1198,\n",
    "     1199, 1200, 1201, 1202, 1203, 1204, 1205, 1206, 1207, 1208, 1209, 1210,\n",
    "     1211, 1213, 1214, 1217, 1218, 1219, 1222, 1268, 1277, 2101, 2103, 2104,\n",
    "     2105, 2106, 2107, 2109, 2110, 2111, 2113, 2114, 2117, 2118, 2119, 2120,\n",
    "     2121, 2122, 2123, 2124, 2125, 2126, 2128, 2129, 2132, 2133, 2135, 2136,\n",
    "     2137, 2138, 2139, 2140, 2143, 2144, 2145, 2146, 2147, 2148, 2149, 2150,\n",
    "     2152, 2153, 2154, 2155, 2156, 2158, 2159, 2160, 2161, 2162, 2163, 2164,\n",
    "     2165, 2166, 2168, 2169, 2175, 2177, 2178, 2179, 2180, 2181, 2182, 2183,\n",
    "     2184, 2185, 2186, 2187, 2188, 2189, 2190, 2191, 2192, 2193, 2194, 2195,\n",
    "     2196, 2197, 2198, 2199, 2200, 2201, 2202, 2203, 2204, 2205, 2206, 2207,\n",
    "     2208, 2209, 2210, 2211, 2212, 2213, 2215, 2216, 2217, 2218, 2219, 2220,\n",
    "     2221, 2222, 2223, 2224, 2228, 2259, 2260, 2262, 2264, 3101, 3102, 3103,\n",
    "     3104, 3105, 3106, 3107, 3108, 3110, 3111, 3112, 3113, 3114, 3115, 3116,\n",
    "     3118, 3119, 3120, 3121, 3122, 3123, 3124, 3125, 3126, 3127, 3128, 3129,\n",
    "     3132, 3133, 3134, 3136, 3138, 3139, 3141, 3142, 3143, 3144, 3145, 3146,\n",
    "     3147, 3148, 3150, 3151, 3152, 3153, 3154, 3156, 3157, 3158, 3159, 3160,\n",
    "     3161, 3162, 3164, 3165, 3166, 3167, 3168, 3169, 3170, 3171, 3173, 3174]\n",
    "    valset = [3175, 3176, 3177, 3178, 3179, 3180, 3181, 3182, 3183, 3184, 3185, 3186,\n",
    "     3187, 3188, 3189, 3190, 3191, 3192, 3193, 3194, 3197, 3198, 3199, 3200,\n",
    "     3201, 3203, 3204, 3206, 3207, 3208, 3216, 3217, 3218, 3221, 3229, 3241,\n",
    "     3248, 3249, 3250, 3254, 3255, 4101, 4102, 4103, 4104, 4106, 4107, 4108,\n",
    "     4109, 4110, 4112, 4113, 4115, 4116, 4118, 4119, 4122, 4123, 4124, 4125,\n",
    "     4127, 4128, 4129, 4130, 4131, 4132, 4134, 4135, 4136, 4137, 4138, 4139,\n",
    "     4141, 4142, 4143, 4144, 4145, 4146, 4147, 4149, 4150, 4151, 4153, 4154,\n",
    "     4155, 4157, 4159, 4160, 4161, 4162, 4163, 4190, 4451, 4452, 4453, 4455,\n",
    "     4456, 4457, 4458, 4459, 4460, 4461, 4462, 4463, 4464, 4465, 4466, 4467,\n",
    "     4468, 4469, 4470, 4471, 4472, 4473, 4475, 4476, 4477, 4478, 4480, 4484,\n",
    "     4485, 4486, 4487, 4488, 4494, 4495, 4496, 4497, 4498, 4499, 4506, 4507]\n",
    "    testset = [1104, 1110, 1212, 1220, 1221, 1223, 1224, 1227, 1229, 1232, 1233, 1234,\n",
    "     1236, 1237, 1238, 1239, 1240, 1241, 1242, 1244, 1247, 1249, 1250, 1251,\n",
    "     1252, 1253, 1254, 1256, 1257, 1258, 1260, 1261, 1263, 1264, 1265, 1266,\n",
    "     1267, 1269, 1271, 1272, 1273, 1276, 1279, 1280, 1281, 1282, 2108, 2170,\n",
    "     2171, 2173, 2174, 2225, 2226, 2227, 2229, 2230, 2231, 2232, 2233, 2234,\n",
    "     2235, 2236, 2237, 2238, 2239, 2240, 2241, 2242, 2243, 2244, 2245, 2246,\n",
    "     2247, 2248, 2249, 2250, 2251, 2252, 2253, 2254, 2255, 2257, 2258, 2265,\n",
    "     2266, 2267, 2268, 2269, 2270, 3137, 3172, 3205, 3209, 3210, 3211, 3212,\n",
    "     3213, 3219, 3220, 3222, 3223, 3224, 3225, 3226, 3227, 3228, 3230, 3231,\n",
    "     3234, 3235, 3237, 3238, 3239, 3242, 3243, 3244, 3245, 3246, 3247, 3251,\n",
    "     3252, 3253, 3256, 4114, 4140, 4164, 4165, 4166, 4167, 4168, 4171, 4174,\n",
    "     4175, 4178, 4179, 4181, 4182, 4183, 4184, 4185, 4187, 4188, 4189, 4192,\n",
    "     4193, 4195, 4481, 4482, 4500, 4501, 4502, 4503, 4504, 4505, 4508, 4509,\n",
    "     4510, 4511, 4513, 4514, 4515, 4516, 4517, 4518, 4519, 4520, 4521, 4522,\n",
    "     4523, 4524, 4525, 4526, 4527, 4528]\n",
    "\n",
    "    trainInd,valInd,testInd = [],[],[]\n",
    "    for subject in trainset:\n",
    "        ind = where(idx == subject)\n",
    "        trainInd.append(ind[0])\n",
    "    trainInd = np.concatenate(trainInd,axis=0)\n",
    "    for subject in valset:\n",
    "        ind = where(idx == subject)\n",
    "        valInd.append(ind[0])\n",
    "    valInd = np.concatenate(valInd,axis=0)\n",
    "    for subject in testset:\n",
    "        ind = where(idx == subject)\n",
    "        testInd.append(ind[0])\n",
    "    testInd = np.concatenate(testInd,axis=0)\n",
    "    return trainInd, valInd, testInd\n",
    "\n",
    "def multilabel_selector(index_array, selected_ids):\n",
    "    res = []\n",
    "    for currentindex in selected_ids:\n",
    "        ind = np.where(index_array == currentindex)\n",
    "        res.append(ind[0])\n",
    "    selectecIndexes = np.concatenate(res,axis=0)\n",
    "    selectecIndexes = np.sort(selectecIndexes)#sort list to preserve idx order\n",
    "    return selectecIndexes\n",
    "\n",
    "def clf_multi_to_predict_proba(y_predict_train):\n",
    "    y_predict_train=np.array(y_predict_train)\n",
    "    y_predict_train=y_predict_train[:,:,1]#get column 1(positive prediction)\n",
    "    y_predict_train=np.transpose(y_predict_train)#swap axis\n",
    "    return y_predict_train\n",
    "\n",
    "def metricsOnSubsets_multiclass(model,X_train3D, y_train, X_train3D_val, y_train_val, dataTest, labelTest):\n",
    "    '''Evaluate Performance'''\n",
    "    print(\"---------------------------------------------------------------\")\n",
    "    print(\"---------------------------------------------------------------\")\n",
    "    print('\\nTRAIN')\n",
    "    print(X_train3D.shape)\n",
    "    y_predict_train = model.predict(X_train3D,batch_size=batchSize)\n",
    "    results_train=performance_evaluation_multiclass(y_train,y_predict_train,color=\"Blues\")\n",
    "    '''Test performance'''\n",
    "    print(\"---------------------------------------------------------------\")\n",
    "    print(\"---------------------------------------------------------------\")\n",
    "    print('\\nVALIDATION')\n",
    "    print(X_train3D_val.shape)\n",
    "    y_predict_val = model.predict(X_train3D_val,batch_size=batchSize)\n",
    "    results_val = performance_evaluation_multiclass(y_train_val,y_predict_val,color=\"Oranges\")\n",
    "    print(\"---------------------------------------------------------------\")\n",
    "    print(\"---------------------------------------------------------------\")\n",
    "    print('\\nTEST')\n",
    "    print(dataTest.shape)\n",
    "    y_predict_test = model.predict(dataTest,batch_size=batchSize)\n",
    "    results_test = performance_evaluation_multiclass(labelTest,y_predict_test,color=\"Blues\")\n",
    "    results_metrics= {'Train':results_train , 'Validation': results_val, 'Test': results_test}\n",
    "    return results_metrics\n",
    "\n",
    "def plotNomalizedConfMatrix(y_test, y_pred, labels=['0','1','2','3','4','6','8'],color='Blues'):\n",
    "    cm = confusion_matrix(y_test, y_pred)\n",
    "    cm = cm.astype('float') / cm.sum(axis=1)[:, np.newaxis]\n",
    "    cm_df = pd.DataFrame(cm, index = labels, columns = labels)\n",
    "    plt.figure(figsize=(5,5))\n",
    "    sns.heatmap(cm_df, annot=True,cmap=color,fmt='.0%',cbar=False,annot_kws={'size': 12})\n",
    "    plt.ylabel('True label',fontsize=12)\n",
    "    plt.xlabel('Prediction',fontsize=12)\n",
    "    plt.xticks(fontsize=12,rotation=45)\n",
    "    plt.yticks(fontsize=12,rotation=0)\n",
    "    plt.show()\n",
    "\n",
    "def performance_evaluation_multiclass(y_test,y_predict_prob,color='Blues', cf_plot=False):\n",
    "    multiclass_AUC=roc_auc_score(y_test, y_predict_prob, multi_class='ovr')#Ejecute before argmax\n",
    "    y_pred=np.argmax(y_predict_prob, axis=1)\n",
    "    y_test=np.argmax(y_test, axis=1)\n",
    "    balanced_accuracy=balanced_accuracy_score(y_test, y_pred)\n",
    "    print(confusion_matrix(y_test, y_pred))\n",
    "    print(classification_report(y_test, y_pred))\n",
    "    metricas=precision_recall_fscore_support(y_test, y_pred, average='macro')\n",
    "    precision, recall=metricas[0],metricas[1]\n",
    "    f1=f1_score(y_test, y_pred, average='macro')\n",
    "    print('Balanced_accuracy_score: '+ str(round(100*(balanced_accuracy),2))+\"%\"+\"\\n\")\n",
    "    print('Precision: ', precision)\n",
    "    print('Recall', recall)\n",
    "    print('Fscore', f1)\n",
    "    print('Multiclass_AUC: '+ str(multiclass_AUC))\n",
    "    results=[balanced_accuracy,precision,recall,f1,multiclass_AUC]\n",
    "    if cf_plot:\n",
    "        try:\n",
    "            plotNomalizedConfMatrix(y_test, y_pred,labels=['Sitting','Standing','Walking','Jogging','Sports','Cycling'],color=color)\n",
    "        except:\n",
    "            print(\"PLOT ERROR\")\n",
    "    return results\n",
    "\n",
    "def printLabel_distribution(y, plot_title=\"Class distribution\", label_map=None):\n",
    "    df = pd.DataFrame(y)\n",
    "    count_classes = df[0].value_counts().sort_index()\n",
    "    # If a label map is provided, apply it to the index (class labels)\n",
    "    if label_map:\n",
    "        count_classes.index = count_classes.index.map(label_map)\n",
    "    count_classes.plot(kind='bar', rot=0)\n",
    "    plt.title(plot_title)\n",
    "    plt.xlabel(\"Physical activity\")\n",
    "    plt.ylabel(\"Number of observations\")\n",
    "    plt.show()\n",
    "\n",
    "def trainModel(X_train, y_train, X_val, y_val):\n",
    "    tf.keras.backend.clear_session()\n",
    "    optimizer =tf.keras.optimizers.Adam(learning_rate=learningRate)\n",
    "\n",
    "    flat_y=argmax(y_train, axis=1)\n",
    "    class_weights = class_weight.compute_class_weight(class_weight = \"balanced\", classes = np.unique(flat_y),y = flat_y)\n",
    "    class_weight_dict = dict(enumerate(class_weights))\n",
    "    sample_weights = np.array([class_weight_dict[class_id] for class_id in flat_y])\n",
    "\n",
    "    '''Train the model'''\n",
    "    model=tranformerModel2(window_length=60,num_classes=6, patch_size=20, projection_dim=128,\n",
    "                      num_heads=8, num_blocks=3, trafo_drop=0.3, mlp_drop=0.3, mlp_units=60 )\n",
    "    model.compile(loss='categorical_crossentropy', optimizer=optimizer,metrics=['accuracy'],weighted_metrics=['accuracy'])\n",
    "    stop_early=EarlyStopping(monitor='val_loss', min_delta=1e-3, patience=5, verbose=0, mode='auto',restore_best_weights=True) #default patience=8\n",
    "    reduce_lr = ReduceLROnPlateau( monitor=\"val_loss\", factor=0.5, patience=3, min_lr=1e-6, mode=\"min\", verbose=1 )\n",
    "    history = model.fit(X_train, y_train, epochs=nEpochs, validation_data=(X_val, y_val),\n",
    "                        callbacks=[stop_early,reduce_lr], verbose=1,sample_weight=sample_weights)# class_weight=to_set_weights\n",
    "    val_accuracy = model.evaluate(X_val, y_val, batch_size=batchSize, verbose=0)\n",
    "    model.summary()\n",
    "    return model, val_accuracy, history\n",
    "\n",
    "def to_categorical(y, num_classes=None):\n",
    "    y = np.array(y, dtype='int')\n",
    "    if not num_classes:\n",
    "        num_classes = np.max(y) + 1\n",
    "    return np.eye(num_classes)[y]\n",
    "\n",
    "def underSampling(X, y1, target_value=0, n_samples=250000):\n",
    "    #underSamples a specific class\n",
    "    flat_y=argmax(y1, axis=1)#transform to hard-label\n",
    "    target_indices = np.where(flat_y == target_value)[0]# Find indices where the data matches the target\n",
    "    other_indices = np.where(flat_y != target_value)[0]# Find indices where the data does not match the target\n",
    "    #Check if there are enough instances of the target value to reduce\n",
    "    if len(target_indices) <= n_samples:\n",
    "        print('Not enough instances to undersample')\n",
    "        return X, y1   #If not enough instances return original arrays\n",
    "    # Randomly select n_samples from the target value instances while keeping the order\n",
    "    selected_target_indices = np.random.choice(target_indices, size=n_samples, replace=False)\n",
    "    us_X = np.concatenate([X[selected_target_indices], X[other_indices]])#select data\n",
    "    us_y1 = np.concatenate([y1[selected_target_indices], y1[other_indices]])\n",
    "    return us_X, us_y1\n",
    "\n",
    "def tranformerModel2(window_length,num_classes, patch_size=4,projection_dim=40,\n",
    "                     num_heads=4,num_blocks=1,trafo_drop=0.3,mlp_drop=0.5, mlp_units=40 ):\n",
    "    time_steps=int(window_length/patch_size)\n",
    "    inputs = Input(shape=(window_length, 3))\n",
    "    #Patch input with CNN\n",
    "    patches = Conv1D(filters=projection_dim, kernel_size=patch_size,strides=patch_size,padding=\"same\")(inputs)\n",
    "    # Patch encoder\n",
    "    patches_embed = PatchEncoder(time_steps, projection_dim)(patches)\n",
    "    # Transformer encoder\n",
    "    representation = TransformerEncoder(projection_dim,num_heads,num_blocks, dropout_rate=trafo_drop)(patches_embed)\n",
    "    representation = GlobalAveragePooling1D()(representation)\n",
    "    # MLP to classify outputs\n",
    "    outputs = MLP(projection_dim, mlp_units, dropout_rate=mlp_drop)(representation)\n",
    "    # Softmax classification\n",
    "    outputs = Dense(num_classes, activation=\"softmax\")(outputs)\n",
    "    # Create model\n",
    "    model = Model(inputs=inputs, outputs=outputs)\n",
    "    return model"
   ]
  },
  {
   "cell_type": "code",
   "execution_count": 5,
   "metadata": {
    "id": "aG9ngsFLV2yq"
   },
   "outputs": [],
   "source": [
    "#VIT adapted to inertial signals\n",
    "class PatchEncoder(tf.keras.layers.Layer):\n",
    "    def __init__(self, num_patches=196, projection_dim=768):\n",
    "        super(PatchEncoder, self).__init__()\n",
    "        self.num_patches = num_patches\n",
    "        self.projection_dim = projection_dim\n",
    "        w_init = tf.random_normal_initializer()\n",
    "        class_token = w_init(shape=(1, projection_dim), dtype=\"float32\")\n",
    "        self.class_token = tf.Variable(initial_value=class_token, trainable=True)\n",
    "        self.projection = Dense(units=projection_dim)\n",
    "        self.position_embedding = tf.keras.layers.Embedding(input_dim=num_patches+1, output_dim=projection_dim)\n",
    "\n",
    "    def call(self, patch):\n",
    "        batch = tf.shape(patch)[0]\n",
    "        # reshape the class token embedins\n",
    "        class_token = tf.tile(self.class_token, multiples = [batch, 1])\n",
    "        class_token = tf.reshape(class_token, (batch, 1, self.projection_dim))\n",
    "        # calculate patches embeddings\n",
    "        patches_embed = self.projection(patch)\n",
    "        patches_embed = tf.concat([patches_embed, class_token], 1)\n",
    "        # calcualte positional embeddings\n",
    "        positions = tf.range(start=0, limit=self.num_patches+1, delta=1)\n",
    "        positions_embed = self.position_embedding(positions)\n",
    "        # add both embeddings\n",
    "        encoded = patches_embed + positions_embed\n",
    "        return encoded\n",
    "\n",
    "class MLP(tf.keras.layers.Layer):\n",
    "    def __init__(self, hidden_features, out_features, dropout_rate=0.1):\n",
    "        super(MLP, self).__init__()\n",
    "        self.dense1 = Dense(hidden_features, activation=tf.nn.gelu)\n",
    "        self.dense2 = Dense(out_features)\n",
    "        self.dropout = Dropout(dropout_rate)\n",
    "\n",
    "    def call(self, x):\n",
    "        x = self.dense1(x)\n",
    "        x = self.dropout(x)\n",
    "        x = self.dense2(x)\n",
    "        y = self.dropout(x)\n",
    "        return y\n",
    "\n",
    "class Block(tf.keras.layers.Layer):\n",
    "    def __init__(self, projection_dim, num_heads=4, dropout_rate=0.1):\n",
    "        super(Block, self).__init__()\n",
    "        self.norm1 = tf.keras.layers.LayerNormalization(epsilon=1e-6)\n",
    "        self.attn = tf.keras.layers.MultiHeadAttention(num_heads=num_heads, key_dim=projection_dim, dropout=dropout_rate)\n",
    "        self.norm2 = tf.keras.layers.LayerNormalization(epsilon=1e-6)\n",
    "        self.mlp = MLP(projection_dim * 2, projection_dim, dropout_rate)\n",
    "\n",
    "    def call(self, x):\n",
    "        # Layer normalization 1.\n",
    "        x1 = self.norm1(x) # encoded_patches\n",
    "        # Create a multi-head attention layer.\n",
    "        attention_output = self.attn(x1, x1)\n",
    "        # Skip connection 1.\n",
    "        x2 = tf.keras.layers.Add()([attention_output, x]) #encoded_patches\n",
    "        # Layer normalization 2.\n",
    "        x3 = self.norm2(x2)\n",
    "        # MLP.\n",
    "        x3 = self.mlp(x3)\n",
    "        # Skip connection 2.\n",
    "        y = tf.keras.layers.Add()([x3, x2])\n",
    "        return y\n",
    "\n",
    "class TransformerEncoder(tf.keras.layers.Layer):\n",
    "    def __init__(self, projection_dim, num_heads=4, num_blocks=12, dropout_rate=0.1):\n",
    "        super(TransformerEncoder, self).__init__()\n",
    "        self.blocks = [Block(projection_dim, num_heads, dropout_rate) for _ in range(num_blocks)]\n",
    "        self.norm = tf.keras.layers.LayerNormalization(epsilon=1e-6)\n",
    "        self.dropout = Dropout(dropout_rate)\n",
    "\n",
    "    def call(self, x):\n",
    "        # Create a [batch_size, projection_dim] tensor.\n",
    "        for block in self.blocks:\n",
    "            x = block(x)\n",
    "        x = self.norm(x)\n",
    "        y = self.dropout(x)\n",
    "        return y"
   ]
  },
  {
   "cell_type": "markdown",
   "metadata": {
    "id": "69awJkMe9sA_"
   },
   "source": [
    "### Holdout repeatedTest"
   ]
  },
  {
   "cell_type": "code",
   "execution_count": 6,
   "metadata": {
    "id": "eZPt2xb_9sA_"
   },
   "outputs": [],
   "source": [
    "def holdout_repeatedTest(X_train, y_train, X_val, y_val, X_test, y_test, repeated_tests=3):\n",
    "    results_train=np.zeros((repeated_tests,5))\n",
    "    results_val=np.zeros((repeated_tests,5))\n",
    "    results_test=np.zeros((repeated_tests,5))\n",
    "    '''Main loop'''\n",
    "    for i in range(repeated_tests):\n",
    "        print(\"---------------------------------------------------------------\")\n",
    "        print(\"---------------------------------------------------------------\")\n",
    "        print(i)\n",
    "        model, val_metrics,history = trainModel(X_train, y_train, X_val, y_val)\n",
    "        print(f'Accuracy/Loss : {val_metrics} --- batch : {batchSize}, learning rate : {learningRate}')\n",
    "        results_metrics=metricsOnSubsets_multiclass(model, X_train, y_train, X_val, y_val, X_test, y_test)\n",
    "        results_train[i]=results_metrics['Train']\n",
    "        results_val[i]=results_metrics['Validation']\n",
    "        results_test[i]=results_metrics['Test']\n",
    "\n",
    "    mainresults={'Train': results_train, 'Validation': results_val, 'Test': results_test}\n",
    "    return mainresults,model,history"
   ]
  },
  {
   "cell_type": "code",
   "execution_count": 7,
   "metadata": {
    "id": "gnPDW4KP9sBA"
   },
   "outputs": [],
   "source": [
    "import pandas as pd\n",
    "def printsummary_Results(results_np_matrix,print_mean=True):\n",
    "    df = pd.DataFrame(results_np_matrix,columns=['Accuracy', 'Precision','Recall','Fscore','AUC',])\n",
    "    summary_mean=df.mean()\n",
    "    summary_std=df.std()\n",
    "    if print_mean==True:\n",
    "        res=summary_mean\n",
    "    else:\n",
    "        res=summary_std\n",
    "    df=res.to_frame().T\n",
    "    df = df.reset_index(drop=True)\n",
    "    return df"
   ]
  },
  {
   "cell_type": "markdown",
   "metadata": {
    "id": "fbykURHvgjPK"
   },
   "source": [
    "### DATA SELECTION AND SPLITING"
   ]
  },
  {
   "cell_type": "code",
   "execution_count": 8,
   "metadata": {
    "id": "wi316x-Y9sBA"
   },
   "outputs": [],
   "source": [
    "def format_data(X,y,idLOSO, selected_ids=[0,1,2,3,4,6,8]):\n",
    "    y_mask=multilabel_selector(index_array=y, selected_ids=selected_ids)#Select specific classes\n",
    "    X, y , idLOSO = X[y_mask,:], y[y_mask],idLOSO[y_mask] #Apply mask\n",
    "    #Reassign label number before one-hot encoding\n",
    "    y[y == 4] = 3 #Running\n",
    "    y[y == 6] = 4 #Sports\n",
    "    y[y == 8] = 5 #Cycling\n",
    "    printLabel_distribution(y)\n",
    "    y = to_categorical(y)#one-hot encoding\n",
    "    trainIdx, valIdx,testIdx = train_val_test(idLOSO)\n",
    "    X_train, y_train,loso_train = X[trainIdx,:,:], y[trainIdx,:], idLOSO[trainIdx]\n",
    "    X_val, y_val,loso_val= X[valIdx,:,:], y[valIdx,:], idLOSO[valIdx]\n",
    "    X_test, y_test,loso_test = X[testIdx,:,:], y[testIdx,:], idLOSO[testIdx]\n",
    "    print(\"Train set unique participants: \", len(np.unique(loso_train)))\n",
    "    print(\"Val set unique participants: \", len(np.unique(loso_val)))\n",
    "    print(\"Test set unique participants: \", len(np.unique(loso_test)))\n",
    "    print(\"X_train_shape: \", X_train.shape)\n",
    "    print(\"X_val_shape: \", X_val.shape)\n",
    "    print(\"X_test_shape: \", X_test.shape)\n",
    "    return X_train, y_train, X_val, y_val, X_test, y_test"
   ]
  },
  {
   "cell_type": "markdown",
   "metadata": {
    "id": "9vKEoDFB9sBA"
   },
   "source": [
    "## TEST AND EVALUATION"
   ]
  },
  {
   "cell_type": "code",
   "execution_count": 9,
   "metadata": {
    "id": "hU7S2U05QGKE"
   },
   "outputs": [],
   "source": [
    "import gc"
   ]
  },
  {
   "cell_type": "code",
   "execution_count": 10,
   "metadata": {
    "id": "KhG6Nv1XN-g8",
    "scrolled": true
   },
   "outputs": [],
   "source": [
    "def run_train_and_test(data):\n",
    "    '''Load and define training, and test data'''\n",
    "    X,y,idLOSO,_= load_EMA_data(data)#\n",
    "    X_train, y_train, X_val, y_val, X_test, y_test=format_data(X,y,idLOSO,selected_ids=[0,1,2,4,6,8])\n",
    "    del X,y,idLOSO\n",
    "    gc.collect()\n",
    "    '''RandomUnderSampler on TRAIN'''\n",
    "    X_train, y_train = underSampling(X_train, y_train, target_value=0, n_samples=300000)\n",
    "    printLabel_distribution(argmax(y_train, axis=1), plot_title=\"Undersampled data distribution (Train set)\", label_map = {0: 'Sitting', 1: 'Standing', 2: 'Walking',3: 'Running', 4: 'Sports', 5: 'Cycling'} )\n",
    "    '''Holdout Repeated test'''\n",
    "    main_results_repeated,model,history =holdout_repeatedTest(X_train, y_train, X_val, y_val, X_test, y_test,repeated_tests=3)\n",
    "    '''Summary of Results'''\n",
    "    print('Main results (average of 3 iterations)')\n",
    "    df1=printsummary_Results(main_results_repeated['Train'],print_mean=True)\n",
    "    df1['Data'] = 'Train'\n",
    "    df2=printsummary_Results(main_results_repeated['Test'],print_mean=True)\n",
    "    df2['Data'] = 'Test'\n",
    "    dfRes=pd.concat([df1, df2])\n",
    "    dfRes = dfRes[['Data'] + [col for col in dfRes.columns if col != 'Data']]\n",
    "    dfRes = dfRes.style.hide(axis='index')\n",
    "    return dfRes"
   ]
  },
  {
   "cell_type": "markdown",
   "metadata": {
    "id": "C7PeoEP29sBB"
   },
   "source": [
    "# RUN EXPERIMENTS:"
   ]
  },
  {
   "cell_type": "code",
   "execution_count": 11,
   "metadata": {
    "id": "NXbhA4Qd9sBB"
   },
   "outputs": [],
   "source": [
    "learningRate=0.0000519\n",
    "windowSize=60\n",
    "batchSize=512\n",
    "nClasses=6\n",
    "nEpochs=120"
   ]
  },
  {
   "cell_type": "code",
   "execution_count": 12,
   "metadata": {
    "collapsed": true,
    "id": "QAsutrWV9sBB",
    "scrolled": true
   },
   "outputs": [],
   "source": [
    "#Train and evaluate using 0% Threshold dataset\n",
    "dfRes_0=run_train_and_test('PREPROCESED_RAW_ALL_DATA_FREE_LIVING_EMA_LABELED_THRES_0_AP_V3.mat')"
   ]
  },
  {
   "cell_type": "code",
   "execution_count": 13,
   "metadata": {
    "id": "tJ4WGz5B9sBB",
    "scrolled": true
   },
   "outputs": [],
   "source": [
    "#Train and evaluate using 50% Threshold dataset\n",
    "dfRes_50=run_train_and_test('PREPROCESED_RAW_ALL_DATA_FREE_LIVING_EMA_LABELED_THRES_0.5_AP_V3.mat')"
   ]
  },
  {
   "cell_type": "code",
   "execution_count": 14,
   "metadata": {
    "id": "YsgvC8kn9sBB",
    "scrolled": false
   },
   "outputs": [],
   "source": [
    "#Train and evaluate using 75% Threshold dataset\n",
    "dfRes_75=run_train_and_test('PREPROCESED_RAW_ALL_DATA_FREE_LIVING_EMA_LABELED_THRES_0.75_AP_V3.mat')"
   ]
  },
  {
   "cell_type": "code",
   "execution_count": 15,
   "metadata": {
    "colab": {
     "base_uri": "https://localhost:8080/",
     "height": 1000
    },
    "id": "8hsbz0wi9sBC",
    "outputId": "0bc431e5-b413-464f-eaa4-30195e2d1fdc",
    "scrolled": true
   },
   "outputs": [
    {
     "data": {
      "image/png": "[encoded data removed]",
      "text/plain": [
       "<Figure size 640x480 with 1 Axes>"
      ]
     },
     "metadata": {},
     "output_type": "display_data"
    },
    {
     "name": "stdout",
     "output_type": "stream",
     "text": [
      "Train set unique participants:  272\n",
      "Val set unique participants:  131\n",
      "Test set unique participants:  171\n",
      "X_train_shape:  (1004760, 60, 3)\n",
      "X_val_shape:  (466040, 60, 3)\n",
      "X_test_shape:  (615120, 60, 3)\n"
     ]
    },
    {
     "data": {
      "image/png": "[encoded data removed]",
      "text/plain": [
       "<Figure size 640x480 with 1 Axes>"
      ]
     },
     "metadata": {},
     "output_type": "display_data"
    },
    {
     "name": "stdout",
     "output_type": "stream",
     "text": [
      "---------------------------------------------------------------\n",
      "---------------------------------------------------------------\n",
      "0\n",
      "Epoch 1/120\n",
      "\u001b[1m12551/12551\u001b[0m \u001b[32m━━━━━━━━━━━━━━━━━━━━\u001b[0m\u001b[37m\u001b[0m \u001b[1m191s\u001b[0m 13ms/step - accuracy: 0.8476 - loss: 0.9215 - weighted_accuracy: 0.6242 - val_accuracy: 0.9331 - val_loss: 0.2450 - val_weighted_accuracy: 0.9331 - learning_rate: 5.1975e-05\n",
      "Epoch 2/120\n",
      "\u001b[1m12551/12551\u001b[0m \u001b[32m━━━━━━━━━━━━━━━━━━━━\u001b[0m\u001b[37m\u001b[0m \u001b[1m152s\u001b[0m 12ms/step - accuracy: 0.9331 - loss: 0.6192 - weighted_accuracy: 0.7518 - val_accuracy: 0.9719 - val_loss: 0.1277 - val_weighted_accuracy: 0.9719 - learning_rate: 5.1975e-05\n",
      "Epoch 3/120\n",
      "\u001b[1m12551/12551\u001b[0m \u001b[32m━━━━━━━━━━━━━━━━━━━━\u001b[0m\u001b[37m\u001b[0m \u001b[1m157s\u001b[0m 13ms/step - accuracy: 0.9422 - loss: 0.5719 - weighted_accuracy: 0.7751 - val_accuracy: 0.9744 - val_loss: 0.1235 - val_weighted_accuracy: 0.9744 - learning_rate: 5.1975e-05\n",
      "Epoch 4/120\n",
      "\u001b[1m12551/12551\u001b[0m \u001b[32m━━━━━━━━━━━━━━━━━━━━\u001b[0m\u001b[37m\u001b[0m \u001b[1m153s\u001b[0m 12ms/step - accuracy: 0.9453 - loss: 0.5510 - weighted_accuracy: 0.7882 - val_accuracy: 0.9774 - val_loss: 0.1128 - val_weighted_accuracy: 0.9774 - learning_rate: 5.1975e-05\n",
      "Epoch 5/120\n",
      "\u001b[1m12551/12551\u001b[0m \u001b[32m━━━━━━━━━━━━━━━━━━━━\u001b[0m\u001b[37m\u001b[0m \u001b[1m157s\u001b[0m 13ms/step - accuracy: 0.9479 - loss: 0.5244 - weighted_accuracy: 0.7981 - val_accuracy: 0.9714 - val_loss: 0.1270 - val_weighted_accuracy: 0.9714 - learning_rate: 5.1975e-05\n",
      "Epoch 6/120\n",
      "\u001b[1m12551/12551\u001b[0m \u001b[32m━━━━━━━━━━━━━━━━━━━━\u001b[0m\u001b[37m\u001b[0m \u001b[1m154s\u001b[0m 12ms/step - accuracy: 0.9490 - loss: 0.5152 - weighted_accuracy: 0.8056 - val_accuracy: 0.9709 - val_loss: 0.1155 - val_weighted_accuracy: 0.9709 - learning_rate: 5.1975e-05\n",
      "Epoch 7/120\n",
      "\u001b[1m12549/12551\u001b[0m \u001b[32m━━━━━━━━━━━━━━━━━━━\u001b[0m\u001b[37m━\u001b[0m \u001b[1m0s\u001b[0m 8ms/step - accuracy: 0.9492 - loss: 0.5024 - weighted_accuracy: 0.8070\n",
      "Epoch 7: ReduceLROnPlateau reducing learning rate to 2.5987499611801468e-05.\n",
      "\u001b[1m12551/12551\u001b[0m \u001b[32m━━━━━━━━━━━━━━━━━━━━\u001b[0m\u001b[37m\u001b[0m \u001b[1m152s\u001b[0m 12ms/step - accuracy: 0.9492 - loss: 0.5024 - weighted_accuracy: 0.8070 - val_accuracy: 0.9735 - val_loss: 0.1139 - val_weighted_accuracy: 0.9735 - learning_rate: 5.1975e-05\n",
      "Epoch 8/120\n",
      "\u001b[1m12551/12551\u001b[0m \u001b[32m━━━━━━━━━━━━━━━━━━━━\u001b[0m\u001b[37m\u001b[0m \u001b[1m151s\u001b[0m 12ms/step - accuracy: 0.9532 - loss: 0.4651 - weighted_accuracy: 0.8207 - val_accuracy: 0.9706 - val_loss: 0.1199 - val_weighted_accuracy: 0.9706 - learning_rate: 2.5987e-05\n",
      "Epoch 9/120\n",
      "\u001b[1m12551/12551\u001b[0m \u001b[32m━━━━━━━━━━━━━━━━━━━━\u001b[0m\u001b[37m\u001b[0m \u001b[1m152s\u001b[0m 12ms/step - accuracy: 0.9520 - loss: 0.4528 - weighted_accuracy: 0.8239 - val_accuracy: 0.9774 - val_loss: 0.1049 - val_weighted_accuracy: 0.9774 - learning_rate: 2.5987e-05\n",
      "Epoch 10/120\n",
      "\u001b[1m12551/12551\u001b[0m \u001b[32m━━━━━━━━━━━━━━━━━━━━\u001b[0m\u001b[37m\u001b[0m \u001b[1m151s\u001b[0m 12ms/step - accuracy: 0.9505 - loss: 0.4419 - weighted_accuracy: 0.8277 - val_accuracy: 0.9747 - val_loss: 0.1062 - val_weighted_accuracy: 0.9747 - learning_rate: 2.5987e-05\n",
      "Epoch 11/120\n",
      "\u001b[1m12551/12551\u001b[0m \u001b[32m━━━━━━━━━━━━━━━━━━━━\u001b[0m\u001b[37m\u001b[0m \u001b[1m155s\u001b[0m 12ms/step - accuracy: 0.9521 - loss: 0.4380 - weighted_accuracy: 0.8321 - val_accuracy: 0.9760 - val_loss: 0.1085 - val_weighted_accuracy: 0.9760 - learning_rate: 2.5987e-05\n",
      "Epoch 12/120\n",
      "\u001b[1m12551/12551\u001b[0m \u001b[32m━━━━━━━━━━━━━━━━━━━━\u001b[0m\u001b[37m\u001b[0m \u001b[1m159s\u001b[0m 13ms/step - accuracy: 0.9524 - loss: 0.4287 - weighted_accuracy: 0.8347 - val_accuracy: 0.9754 - val_loss: 0.1038 - val_weighted_accuracy: 0.9754 - learning_rate: 2.5987e-05\n",
      "Epoch 13/120\n",
      "\u001b[1m12551/12551\u001b[0m \u001b[32m━━━━━━━━━━━━━━━━━━━━\u001b[0m\u001b[37m\u001b[0m \u001b[1m155s\u001b[0m 12ms/step - accuracy: 0.9527 - loss: 0.4206 - weighted_accuracy: 0.8374 - val_accuracy: 0.9730 - val_loss: 0.1132 - val_weighted_accuracy: 0.9730 - learning_rate: 2.5987e-05\n",
      "Epoch 14/120\n",
      "\u001b[1m12551/12551\u001b[0m \u001b[32m━━━━━━━━━━━━━━━━━━━━\u001b[0m\u001b[37m\u001b[0m \u001b[1m152s\u001b[0m 12ms/step - accuracy: 0.9524 - loss: 0.4036 - weighted_accuracy: 0.8411 - val_accuracy: 0.9668 - val_loss: 0.1280 - val_weighted_accuracy: 0.9668 - learning_rate: 2.5987e-05\n",
      "Epoch 15/120\n",
      "\u001b[1m12548/12551\u001b[0m \u001b[32m━━━━━━━━━━━━━━━━━━━\u001b[0m\u001b[37m━\u001b[0m \u001b[1m0s\u001b[0m 8ms/step - accuracy: 0.9521 - loss: 0.4102 - weighted_accuracy: 0.8392\n",
      "Epoch 15: ReduceLROnPlateau reducing learning rate to 1.2993749805900734e-05.\n",
      "\u001b[1m12551/12551\u001b[0m \u001b[32m━━━━━━━━━━━━━━━━━━━━\u001b[0m\u001b[37m\u001b[0m \u001b[1m153s\u001b[0m 12ms/step - accuracy: 0.9521 - loss: 0.4102 - weighted_accuracy: 0.8392 - val_accuracy: 0.9683 - val_loss: 0.1184 - val_weighted_accuracy: 0.9683 - learning_rate: 2.5987e-05\n",
      "Epoch 16/120\n",
      "\u001b[1m12551/12551\u001b[0m \u001b[32m━━━━━━━━━━━━━━━━━━━━\u001b[0m\u001b[37m\u001b[0m \u001b[1m150s\u001b[0m 12ms/step - accuracy: 0.9530 - loss: 0.3875 - weighted_accuracy: 0.8499 - val_accuracy: 0.9721 - val_loss: 0.1132 - val_weighted_accuracy: 0.9721 - learning_rate: 1.2994e-05\n",
      "Epoch 17/120\n",
      "\u001b[1m12551/12551\u001b[0m \u001b[32m━━━━━━━━━━━━━━━━━━━━\u001b[0m\u001b[37m\u001b[0m \u001b[1m202s\u001b[0m 12ms/step - accuracy: 0.9529 - loss: 0.3818 - weighted_accuracy: 0.8503 - val_accuracy: 0.9658 - val_loss: 0.1246 - val_weighted_accuracy: 0.9658 - learning_rate: 1.2994e-05\n"
     ]
    },
    {
     "data": {
      "text/html": [
       "<pre style=\"white-space:pre;overflow-x:auto;line-height:normal;font-family:Menlo,'DejaVu Sans Mono',consolas,'Courier New',monospace\"><span style=\"font-weight: bold\">Model: \"functional\"</span>\n",
       "</pre>\n"
      ],
      "text/plain": [
       "\u001b[1mModel: \"functional\"\u001b[0m\n"
      ]
     },
     "metadata": {},
     "output_type": "display_data"
    },
    {
     "data": {
      "text/html": [
       "<pre style=\"white-space:pre;overflow-x:auto;line-height:normal;font-family:Menlo,'DejaVu Sans Mono',consolas,'Courier New',monospace\">┏━━━━━━━━━━━━━━━━━━━━━━━━━━━━━━━━━┳━━━━━━━━━━━━━━━━━━━━━━━━┳━━━━━━━━━━━━━━━┓\n",
       "┃<span style=\"font-weight: bold\"> Layer (type)                    </span>┃<span style=\"font-weight: bold\"> Output Shape           </span>┃<span style=\"font-weight: bold\">       Param # </span>┃\n",
       "┡━━━━━━━━━━━━━━━━━━━━━━━━━━━━━━━━━╇━━━━━━━━━━━━━━━━━━━━━━━━╇━━━━━━━━━━━━━━━┩\n",
       "│ input_layer (<span style=\"color: #0087ff; text-decoration-color: #0087ff\">InputLayer</span>)        │ (<span style=\"color: #00d7ff; text-decoration-color: #00d7ff\">None</span>, <span style=\"color: #00af00; text-decoration-color: #00af00\">60</span>, <span style=\"color: #00af00; text-decoration-color: #00af00\">3</span>)          │             <span style=\"color: #00af00; text-decoration-color: #00af00\">0</span> │\n",
       "├─────────────────────────────────┼────────────────────────┼───────────────┤\n",
       "│ conv1d (<span style=\"color: #0087ff; text-decoration-color: #0087ff\">Conv1D</span>)                 │ (<span style=\"color: #00d7ff; text-decoration-color: #00d7ff\">None</span>, <span style=\"color: #00af00; text-decoration-color: #00af00\">3</span>, <span style=\"color: #00af00; text-decoration-color: #00af00\">128</span>)         │         <span style=\"color: #00af00; text-decoration-color: #00af00\">7,808</span> │\n",
       "├─────────────────────────────────┼────────────────────────┼───────────────┤\n",
       "│ patch_encoder (<span style=\"color: #0087ff; text-decoration-color: #0087ff\">PatchEncoder</span>)    │ (<span style=\"color: #00d7ff; text-decoration-color: #00d7ff\">None</span>, <span style=\"color: #00af00; text-decoration-color: #00af00\">4</span>, <span style=\"color: #00af00; text-decoration-color: #00af00\">128</span>)         │        <span style=\"color: #00af00; text-decoration-color: #00af00\">17,024</span> │\n",
       "├─────────────────────────────────┼────────────────────────┼───────────────┤\n",
       "│ transformer_encoder             │ (<span style=\"color: #00d7ff; text-decoration-color: #00d7ff\">None</span>, <span style=\"color: #00af00; text-decoration-color: #00af00\">4</span>, <span style=\"color: #00af00; text-decoration-color: #00af00\">128</span>)         │     <span style=\"color: #00af00; text-decoration-color: #00af00\">1,782,016</span> │\n",
       "│ (<span style=\"color: #0087ff; text-decoration-color: #0087ff\">TransformerEncoder</span>)            │                        │               │\n",
       "├─────────────────────────────────┼────────────────────────┼───────────────┤\n",
       "│ global_average_pooling1d        │ (<span style=\"color: #00d7ff; text-decoration-color: #00d7ff\">None</span>, <span style=\"color: #00af00; text-decoration-color: #00af00\">128</span>)            │             <span style=\"color: #00af00; text-decoration-color: #00af00\">0</span> │\n",
       "│ (<span style=\"color: #0087ff; text-decoration-color: #0087ff\">GlobalAveragePooling1D</span>)        │                        │               │\n",
       "├─────────────────────────────────┼────────────────────────┼───────────────┤\n",
       "│ mlp_3 (<span style=\"color: #0087ff; text-decoration-color: #0087ff\">MLP</span>)                     │ (<span style=\"color: #00d7ff; text-decoration-color: #00d7ff\">None</span>, <span style=\"color: #00af00; text-decoration-color: #00af00\">60</span>)             │        <span style=\"color: #00af00; text-decoration-color: #00af00\">24,252</span> │\n",
       "├─────────────────────────────────┼────────────────────────┼───────────────┤\n",
       "│ dense_9 (<span style=\"color: #0087ff; text-decoration-color: #0087ff\">Dense</span>)                 │ (<span style=\"color: #00d7ff; text-decoration-color: #00d7ff\">None</span>, <span style=\"color: #00af00; text-decoration-color: #00af00\">6</span>)              │           <span style=\"color: #00af00; text-decoration-color: #00af00\">366</span> │\n",
       "└─────────────────────────────────┴────────────────────────┴───────────────┘\n",
       "</pre>\n"
      ],
      "text/plain": [
       "┏━━━━━━━━━━━━━━━━━━━━━━━━━━━━━━━━━┳━━━━━━━━━━━━━━━━━━━━━━━━┳━━━━━━━━━━━━━━━┓\n",
       "┃\u001b[1m \u001b[0m\u001b[1mLayer (type)                   \u001b[0m\u001b[1m \u001b[0m┃\u001b[1m \u001b[0m\u001b[1mOutput Shape          \u001b[0m\u001b[1m \u001b[0m┃\u001b[1m \u001b[0m\u001b[1m      Param #\u001b[0m\u001b[1m \u001b[0m┃\n",
       "┡━━━━━━━━━━━━━━━━━━━━━━━━━━━━━━━━━╇━━━━━━━━━━━━━━━━━━━━━━━━╇━━━━━━━━━━━━━━━┩\n",
       "│ input_layer (\u001b[38;5;33mInputLayer\u001b[0m)        │ (\u001b[38;5;45mNone\u001b[0m, \u001b[38;5;34m60\u001b[0m, \u001b[38;5;34m3\u001b[0m)          │             \u001b[38;5;34m0\u001b[0m │\n",
       "├─────────────────────────────────┼────────────────────────┼───────────────┤\n",
       "│ conv1d (\u001b[38;5;33mConv1D\u001b[0m)                 │ (\u001b[38;5;45mNone\u001b[0m, \u001b[38;5;34m3\u001b[0m, \u001b[38;5;34m128\u001b[0m)         │         \u001b[38;5;34m7,808\u001b[0m │\n",
       "├─────────────────────────────────┼────────────────────────┼───────────────┤\n",
       "│ patch_encoder (\u001b[38;5;33mPatchEncoder\u001b[0m)    │ (\u001b[38;5;45mNone\u001b[0m, \u001b[38;5;34m4\u001b[0m, \u001b[38;5;34m128\u001b[0m)         │        \u001b[38;5;34m17,024\u001b[0m │\n",
       "├─────────────────────────────────┼────────────────────────┼───────────────┤\n",
       "│ transformer_encoder             │ (\u001b[38;5;45mNone\u001b[0m, \u001b[38;5;34m4\u001b[0m, \u001b[38;5;34m128\u001b[0m)         │     \u001b[38;5;34m1,782,016\u001b[0m │\n",
       "│ (\u001b[38;5;33mTransformerEncoder\u001b[0m)            │                        │               │\n",
       "├─────────────────────────────────┼────────────────────────┼───────────────┤\n",
       "│ global_average_pooling1d        │ (\u001b[38;5;45mNone\u001b[0m, \u001b[38;5;34m128\u001b[0m)            │             \u001b[38;5;34m0\u001b[0m │\n",
       "│ (\u001b[38;5;33mGlobalAveragePooling1D\u001b[0m)        │                        │               │\n",
       "├─────────────────────────────────┼────────────────────────┼───────────────┤\n",
       "│ mlp_3 (\u001b[38;5;33mMLP\u001b[0m)                     │ (\u001b[38;5;45mNone\u001b[0m, \u001b[38;5;34m60\u001b[0m)             │        \u001b[38;5;34m24,252\u001b[0m │\n",
       "├─────────────────────────────────┼────────────────────────┼───────────────┤\n",
       "│ dense_9 (\u001b[38;5;33mDense\u001b[0m)                 │ (\u001b[38;5;45mNone\u001b[0m, \u001b[38;5;34m6\u001b[0m)              │           \u001b[38;5;34m366\u001b[0m │\n",
       "└─────────────────────────────────┴────────────────────────┴───────────────┘\n"
      ]
     },
     "metadata": {},
     "output_type": "display_data"
    },
    {
     "data": {
      "text/html": [
       "<pre style=\"white-space:pre;overflow-x:auto;line-height:normal;font-family:Menlo,'DejaVu Sans Mono',consolas,'Courier New',monospace\"><span style=\"font-weight: bold\"> Total params: </span><span style=\"color: #00af00; text-decoration-color: #00af00\">5,494,400</span> (20.96 MB)\n",
       "</pre>\n"
      ],
      "text/plain": [
       "\u001b[1m Total params: \u001b[0m\u001b[38;5;34m5,494,400\u001b[0m (20.96 MB)\n"
      ]
     },
     "metadata": {},
     "output_type": "display_data"
    },
    {
     "data": {
      "text/html": [
       "<pre style=\"white-space:pre;overflow-x:auto;line-height:normal;font-family:Menlo,'DejaVu Sans Mono',consolas,'Courier New',monospace\"><span style=\"font-weight: bold\"> Trainable params: </span><span style=\"color: #00af00; text-decoration-color: #00af00\">1,831,466</span> (6.99 MB)\n",
       "</pre>\n"
      ],
      "text/plain": [
       "\u001b[1m Trainable params: \u001b[0m\u001b[38;5;34m1,831,466\u001b[0m (6.99 MB)\n"
      ]
     },
     "metadata": {},
     "output_type": "display_data"
    },
    {
     "data": {
      "text/html": [
       "<pre style=\"white-space:pre;overflow-x:auto;line-height:normal;font-family:Menlo,'DejaVu Sans Mono',consolas,'Courier New',monospace\"><span style=\"font-weight: bold\"> Non-trainable params: </span><span style=\"color: #00af00; text-decoration-color: #00af00\">0</span> (0.00 B)\n",
       "</pre>\n"
      ],
      "text/plain": [
       "\u001b[1m Non-trainable params: \u001b[0m\u001b[38;5;34m0\u001b[0m (0.00 B)\n"
      ]
     },
     "metadata": {},
     "output_type": "display_data"
    },
    {
     "data": {
      "text/html": [
       "<pre style=\"white-space:pre;overflow-x:auto;line-height:normal;font-family:Menlo,'DejaVu Sans Mono',consolas,'Courier New',monospace\"><span style=\"font-weight: bold\"> Optimizer params: </span><span style=\"color: #00af00; text-decoration-color: #00af00\">3,662,934</span> (13.97 MB)\n",
       "</pre>\n"
      ],
      "text/plain": [
       "\u001b[1m Optimizer params: \u001b[0m\u001b[38;5;34m3,662,934\u001b[0m (13.97 MB)\n"
      ]
     },
     "metadata": {},
     "output_type": "display_data"
    },
    {
     "name": "stdout",
     "output_type": "stream",
     "text": [
      "Accuracy/Loss : [0.10377553105354309, 0.9753648042678833, 0.9753648042678833, 0.9753648042678833] --- batch : 512, learning rate : 5.1975e-05\n",
      "---------------------------------------------------------------\n",
      "---------------------------------------------------------------\n",
      "\n",
      "TRAIN\n",
      "(401620, 60, 3)\n",
      "\u001b[1m785/785\u001b[0m \u001b[32m━━━━━━━━━━━━━━━━━━━━\u001b[0m\u001b[37m\u001b[0m \u001b[1m9s\u001b[0m 9ms/step\n",
      "[[297327   2052    202     24    185    210]\n",
      " [   105  25678     83      4    180     50]\n",
      " [    44   1353  52494    946   2798     65]\n",
      " [     6     89   2312   5197    194      2]\n",
      " [     7     85    977    583   3065    183]\n",
      " [    55     78      4      1    177   4805]]\n",
      "              precision    recall  f1-score   support\n",
      "\n",
      "           0       1.00      0.99      1.00    300000\n",
      "           1       0.88      0.98      0.93     26100\n",
      "           2       0.94      0.91      0.92     57700\n",
      "           3       0.77      0.67      0.71      7800\n",
      "           4       0.46      0.63      0.53      4900\n",
      "           5       0.90      0.94      0.92      5120\n",
      "\n",
      "    accuracy                           0.97    401620\n",
      "   macro avg       0.82      0.85      0.84    401620\n",
      "weighted avg       0.97      0.97      0.97    401620\n",
      "\n",
      "Balanced_accuracy_score: 85.25%\n",
      "\n",
      "Precision:  0.8247770017661203\n",
      "Recall 0.8524941553658851\n",
      "Fscore 0.8354204431122438\n",
      "Multiclass_AUC: 0.9929772138473378\n",
      "---------------------------------------------------------------\n",
      "---------------------------------------------------------------\n",
      "\n",
      "VALIDATION\n",
      "(466040, 60, 3)\n",
      "\u001b[1m911/911\u001b[0m \u001b[32m━━━━━━━━━━━━━━━━━━━━\u001b[0m\u001b[37m\u001b[0m \u001b[1m7s\u001b[0m 8ms/step\n",
      "[[416509   2765    381     23    441    541]\n",
      " [   152   7490     92      5    230     51]\n",
      " [    22    767  25556    639   1759     57]\n",
      " [    11     84   2002   3126    295      2]\n",
      " [     4     35    435    209    465     52]\n",
      " [    52     58     81      0    236   1413]]\n",
      "              precision    recall  f1-score   support\n",
      "\n",
      "           0       1.00      0.99      0.99    420660\n",
      "           1       0.67      0.93      0.78      8020\n",
      "           2       0.90      0.89      0.89     28800\n",
      "           3       0.78      0.57      0.66      5520\n",
      "           4       0.14      0.39      0.20      1200\n",
      "           5       0.67      0.77      0.71      1840\n",
      "\n",
      "    accuracy                           0.98    466040\n",
      "   macro avg       0.69      0.76      0.71    466040\n",
      "weighted avg       0.98      0.98      0.98    466040\n",
      "\n",
      "Balanced_accuracy_score: 75.55%\n",
      "\n",
      "Precision:  0.6913437441828877\n",
      "Recall 0.7555246044612542\n",
      "Fscore 0.7062414152373689\n",
      "Multiclass_AUC: 0.9879331464946931\n",
      "---------------------------------------------------------------\n",
      "---------------------------------------------------------------\n",
      "\n",
      "TEST\n",
      "(615120, 60, 3)\n",
      "\u001b[1m1202/1202\u001b[0m \u001b[32m━━━━━━━━━━━━━━━━━━━━\u001b[0m\u001b[37m\u001b[0m \u001b[1m9s\u001b[0m 7ms/step\n",
      "[[551058   3272    473     35    433    449]\n",
      " [   337  11606     98      1    262     96]\n",
      " [    39    748  28239   1176   2228     70]\n",
      " [     7     69   2223   4375    717      9]\n",
      " [   504     62    900   1173   1311    550]\n",
      " [    42     44     96      0     78   2340]]\n",
      "              precision    recall  f1-score   support\n",
      "\n",
      "           0       1.00      0.99      0.99    555720\n",
      "           1       0.73      0.94      0.82     12400\n",
      "           2       0.88      0.87      0.88     32500\n",
      "           3       0.65      0.59      0.62      7400\n",
      "           4       0.26      0.29      0.28      4500\n",
      "           5       0.67      0.90      0.77      2600\n",
      "\n",
      "    accuracy                           0.97    615120\n",
      "   macro avg       0.70      0.76      0.73    615120\n",
      "weighted avg       0.98      0.97      0.97    615120\n",
      "\n",
      "Balanced_accuracy_score: 76.32%\n",
      "\n",
      "Precision:  0.6980470593683351\n",
      "Recall 0.7631700803926534\n",
      "Fscore 0.7253054379152098\n",
      "Multiclass_AUC: 0.9683158376057984\n",
      "---------------------------------------------------------------\n",
      "---------------------------------------------------------------\n",
      "1\n",
      "Epoch 1/120\n",
      "\u001b[1m12551/12551\u001b[0m \u001b[32m━━━━━━━━━━━━━━━━━━━━\u001b[0m\u001b[37m\u001b[0m \u001b[1m185s\u001b[0m 13ms/step - accuracy: 0.8398 - loss: 0.9353 - weighted_accuracy: 0.6230 - val_accuracy: 0.8493 - val_loss: 0.3492 - val_weighted_accuracy: 0.8493 - learning_rate: 5.1975e-05\n",
      "Epoch 2/120\n",
      "\u001b[1m12551/12551\u001b[0m \u001b[32m━━━━━━━━━━━━━━━━━━━━\u001b[0m\u001b[37m\u001b[0m \u001b[1m149s\u001b[0m 12ms/step - accuracy: 0.9329 - loss: 0.6237 - weighted_accuracy: 0.7524 - val_accuracy: 0.9720 - val_loss: 0.1428 - val_weighted_accuracy: 0.9720 - learning_rate: 5.1975e-05\n",
      "Epoch 3/120\n",
      "\u001b[1m12551/12551\u001b[0m \u001b[32m━━━━━━━━━━━━━━━━━━━━\u001b[0m\u001b[37m\u001b[0m \u001b[1m150s\u001b[0m 12ms/step - accuracy: 0.9442 - loss: 0.5811 - weighted_accuracy: 0.7762 - val_accuracy: 0.9720 - val_loss: 0.1250 - val_weighted_accuracy: 0.9720 - learning_rate: 5.1975e-05\n",
      "Epoch 4/120\n",
      "\u001b[1m12551/12551\u001b[0m \u001b[32m━━━━━━━━━━━━━━━━━━━━\u001b[0m\u001b[37m\u001b[0m \u001b[1m202s\u001b[0m 12ms/step - accuracy: 0.9482 - loss: 0.5511 - weighted_accuracy: 0.7886 - val_accuracy: 0.9774 - val_loss: 0.1086 - val_weighted_accuracy: 0.9774 - learning_rate: 5.1975e-05\n",
      "Epoch 5/120\n",
      "\u001b[1m12551/12551\u001b[0m \u001b[32m━━━━━━━━━━━━━━━━━━━━\u001b[0m\u001b[37m\u001b[0m \u001b[1m150s\u001b[0m 12ms/step - accuracy: 0.9493 - loss: 0.5217 - weighted_accuracy: 0.8003 - val_accuracy: 0.9772 - val_loss: 0.1027 - val_weighted_accuracy: 0.9772 - learning_rate: 5.1975e-05\n",
      "Epoch 6/120\n",
      "\u001b[1m12551/12551\u001b[0m \u001b[32m━━━━━━━━━━━━━━━━━━━━\u001b[0m\u001b[37m\u001b[0m \u001b[1m150s\u001b[0m 12ms/step - accuracy: 0.9501 - loss: 0.5186 - weighted_accuracy: 0.8001 - val_accuracy: 0.9745 - val_loss: 0.1090 - val_weighted_accuracy: 0.9745 - learning_rate: 5.1975e-05\n",
      "Epoch 7/120\n",
      "\u001b[1m12551/12551\u001b[0m \u001b[32m━━━━━━━━━━━━━━━━━━━━\u001b[0m\u001b[37m\u001b[0m \u001b[1m150s\u001b[0m 12ms/step - accuracy: 0.9486 - loss: 0.5034 - weighted_accuracy: 0.8043 - val_accuracy: 0.9693 - val_loss: 0.1347 - val_weighted_accuracy: 0.9693 - learning_rate: 5.1975e-05\n",
      "Epoch 8/120\n",
      "\u001b[1m12546/12551\u001b[0m \u001b[32m━━━━━━━━━━━━━━━━━━━\u001b[0m\u001b[37m━\u001b[0m \u001b[1m0s\u001b[0m 8ms/step - accuracy: 0.9523 - loss: 0.4789 - weighted_accuracy: 0.8129\n",
      "Epoch 8: ReduceLROnPlateau reducing learning rate to 2.5987499611801468e-05.\n",
      "\u001b[1m12551/12551\u001b[0m \u001b[32m━━━━━━━━━━━━━━━━━━━━\u001b[0m\u001b[37m\u001b[0m \u001b[1m201s\u001b[0m 12ms/step - accuracy: 0.9523 - loss: 0.4789 - weighted_accuracy: 0.8129 - val_accuracy: 0.9670 - val_loss: 0.1411 - val_weighted_accuracy: 0.9670 - learning_rate: 5.1975e-05\n",
      "Epoch 9/120\n",
      "\u001b[1m12551/12551\u001b[0m \u001b[32m━━━━━━━━━━━━━━━━━━━━\u001b[0m\u001b[37m\u001b[0m \u001b[1m151s\u001b[0m 12ms/step - accuracy: 0.9552 - loss: 0.4523 - weighted_accuracy: 0.8258 - val_accuracy: 0.9729 - val_loss: 0.1131 - val_weighted_accuracy: 0.9729 - learning_rate: 2.5987e-05\n",
      "Epoch 10/120\n",
      "\u001b[1m12551/12551\u001b[0m \u001b[32m━━━━━━━━━━━━━━━━━━━━\u001b[0m\u001b[37m\u001b[0m \u001b[1m151s\u001b[0m 12ms/step - accuracy: 0.9550 - loss: 0.4439 - weighted_accuracy: 0.8278 - val_accuracy: 0.9752 - val_loss: 0.1100 - val_weighted_accuracy: 0.9752 - learning_rate: 2.5987e-05\n"
     ]
    },
    {
     "data": {
      "text/html": [
       "<pre style=\"white-space:pre;overflow-x:auto;line-height:normal;font-family:Menlo,'DejaVu Sans Mono',consolas,'Courier New',monospace\"><span style=\"font-weight: bold\">Model: \"functional\"</span>\n",
       "</pre>\n"
      ],
      "text/plain": [
       "\u001b[1mModel: \"functional\"\u001b[0m\n"
      ]
     },
     "metadata": {},
     "output_type": "display_data"
    },
    {
     "data": {
      "text/html": [
       "<pre style=\"white-space:pre;overflow-x:auto;line-height:normal;font-family:Menlo,'DejaVu Sans Mono',consolas,'Courier New',monospace\">┏━━━━━━━━━━━━━━━━━━━━━━━━━━━━━━━━━┳━━━━━━━━━━━━━━━━━━━━━━━━┳━━━━━━━━━━━━━━━┓\n",
       "┃<span style=\"font-weight: bold\"> Layer (type)                    </span>┃<span style=\"font-weight: bold\"> Output Shape           </span>┃<span style=\"font-weight: bold\">       Param # </span>┃\n",
       "┡━━━━━━━━━━━━━━━━━━━━━━━━━━━━━━━━━╇━━━━━━━━━━━━━━━━━━━━━━━━╇━━━━━━━━━━━━━━━┩\n",
       "│ input_layer (<span style=\"color: #0087ff; text-decoration-color: #0087ff\">InputLayer</span>)        │ (<span style=\"color: #00d7ff; text-decoration-color: #00d7ff\">None</span>, <span style=\"color: #00af00; text-decoration-color: #00af00\">60</span>, <span style=\"color: #00af00; text-decoration-color: #00af00\">3</span>)          │             <span style=\"color: #00af00; text-decoration-color: #00af00\">0</span> │\n",
       "├─────────────────────────────────┼────────────────────────┼───────────────┤\n",
       "│ conv1d (<span style=\"color: #0087ff; text-decoration-color: #0087ff\">Conv1D</span>)                 │ (<span style=\"color: #00d7ff; text-decoration-color: #00d7ff\">None</span>, <span style=\"color: #00af00; text-decoration-color: #00af00\">3</span>, <span style=\"color: #00af00; text-decoration-color: #00af00\">128</span>)         │         <span style=\"color: #00af00; text-decoration-color: #00af00\">7,808</span> │\n",
       "├─────────────────────────────────┼────────────────────────┼───────────────┤\n",
       "│ patch_encoder (<span style=\"color: #0087ff; text-decoration-color: #0087ff\">PatchEncoder</span>)    │ (<span style=\"color: #00d7ff; text-decoration-color: #00d7ff\">None</span>, <span style=\"color: #00af00; text-decoration-color: #00af00\">4</span>, <span style=\"color: #00af00; text-decoration-color: #00af00\">128</span>)         │        <span style=\"color: #00af00; text-decoration-color: #00af00\">17,024</span> │\n",
       "├─────────────────────────────────┼────────────────────────┼───────────────┤\n",
       "│ transformer_encoder             │ (<span style=\"color: #00d7ff; text-decoration-color: #00d7ff\">None</span>, <span style=\"color: #00af00; text-decoration-color: #00af00\">4</span>, <span style=\"color: #00af00; text-decoration-color: #00af00\">128</span>)         │     <span style=\"color: #00af00; text-decoration-color: #00af00\">1,782,016</span> │\n",
       "│ (<span style=\"color: #0087ff; text-decoration-color: #0087ff\">TransformerEncoder</span>)            │                        │               │\n",
       "├─────────────────────────────────┼────────────────────────┼───────────────┤\n",
       "│ global_average_pooling1d        │ (<span style=\"color: #00d7ff; text-decoration-color: #00d7ff\">None</span>, <span style=\"color: #00af00; text-decoration-color: #00af00\">128</span>)            │             <span style=\"color: #00af00; text-decoration-color: #00af00\">0</span> │\n",
       "│ (<span style=\"color: #0087ff; text-decoration-color: #0087ff\">GlobalAveragePooling1D</span>)        │                        │               │\n",
       "├─────────────────────────────────┼────────────────────────┼───────────────┤\n",
       "│ mlp_3 (<span style=\"color: #0087ff; text-decoration-color: #0087ff\">MLP</span>)                     │ (<span style=\"color: #00d7ff; text-decoration-color: #00d7ff\">None</span>, <span style=\"color: #00af00; text-decoration-color: #00af00\">60</span>)             │        <span style=\"color: #00af00; text-decoration-color: #00af00\">24,252</span> │\n",
       "├─────────────────────────────────┼────────────────────────┼───────────────┤\n",
       "│ dense_9 (<span style=\"color: #0087ff; text-decoration-color: #0087ff\">Dense</span>)                 │ (<span style=\"color: #00d7ff; text-decoration-color: #00d7ff\">None</span>, <span style=\"color: #00af00; text-decoration-color: #00af00\">6</span>)              │           <span style=\"color: #00af00; text-decoration-color: #00af00\">366</span> │\n",
       "└─────────────────────────────────┴────────────────────────┴───────────────┘\n",
       "</pre>\n"
      ],
      "text/plain": [
       "┏━━━━━━━━━━━━━━━━━━━━━━━━━━━━━━━━━┳━━━━━━━━━━━━━━━━━━━━━━━━┳━━━━━━━━━━━━━━━┓\n",
       "┃\u001b[1m \u001b[0m\u001b[1mLayer (type)                   \u001b[0m\u001b[1m \u001b[0m┃\u001b[1m \u001b[0m\u001b[1mOutput Shape          \u001b[0m\u001b[1m \u001b[0m┃\u001b[1m \u001b[0m\u001b[1m      Param #\u001b[0m\u001b[1m \u001b[0m┃\n",
       "┡━━━━━━━━━━━━━━━━━━━━━━━━━━━━━━━━━╇━━━━━━━━━━━━━━━━━━━━━━━━╇━━━━━━━━━━━━━━━┩\n",
       "│ input_layer (\u001b[38;5;33mInputLayer\u001b[0m)        │ (\u001b[38;5;45mNone\u001b[0m, \u001b[38;5;34m60\u001b[0m, \u001b[38;5;34m3\u001b[0m)          │             \u001b[38;5;34m0\u001b[0m │\n",
       "├─────────────────────────────────┼────────────────────────┼───────────────┤\n",
       "│ conv1d (\u001b[38;5;33mConv1D\u001b[0m)                 │ (\u001b[38;5;45mNone\u001b[0m, \u001b[38;5;34m3\u001b[0m, \u001b[38;5;34m128\u001b[0m)         │         \u001b[38;5;34m7,808\u001b[0m │\n",
       "├─────────────────────────────────┼────────────────────────┼───────────────┤\n",
       "│ patch_encoder (\u001b[38;5;33mPatchEncoder\u001b[0m)    │ (\u001b[38;5;45mNone\u001b[0m, \u001b[38;5;34m4\u001b[0m, \u001b[38;5;34m128\u001b[0m)         │        \u001b[38;5;34m17,024\u001b[0m │\n",
       "├─────────────────────────────────┼────────────────────────┼───────────────┤\n",
       "│ transformer_encoder             │ (\u001b[38;5;45mNone\u001b[0m, \u001b[38;5;34m4\u001b[0m, \u001b[38;5;34m128\u001b[0m)         │     \u001b[38;5;34m1,782,016\u001b[0m │\n",
       "│ (\u001b[38;5;33mTransformerEncoder\u001b[0m)            │                        │               │\n",
       "├─────────────────────────────────┼────────────────────────┼───────────────┤\n",
       "│ global_average_pooling1d        │ (\u001b[38;5;45mNone\u001b[0m, \u001b[38;5;34m128\u001b[0m)            │             \u001b[38;5;34m0\u001b[0m │\n",
       "│ (\u001b[38;5;33mGlobalAveragePooling1D\u001b[0m)        │                        │               │\n",
       "├─────────────────────────────────┼────────────────────────┼───────────────┤\n",
       "│ mlp_3 (\u001b[38;5;33mMLP\u001b[0m)                     │ (\u001b[38;5;45mNone\u001b[0m, \u001b[38;5;34m60\u001b[0m)             │        \u001b[38;5;34m24,252\u001b[0m │\n",
       "├─────────────────────────────────┼────────────────────────┼───────────────┤\n",
       "│ dense_9 (\u001b[38;5;33mDense\u001b[0m)                 │ (\u001b[38;5;45mNone\u001b[0m, \u001b[38;5;34m6\u001b[0m)              │           \u001b[38;5;34m366\u001b[0m │\n",
       "└─────────────────────────────────┴────────────────────────┴───────────────┘\n"
      ]
     },
     "metadata": {},
     "output_type": "display_data"
    },
    {
     "data": {
      "text/html": [
       "<pre style=\"white-space:pre;overflow-x:auto;line-height:normal;font-family:Menlo,'DejaVu Sans Mono',consolas,'Courier New',monospace\"><span style=\"font-weight: bold\"> Total params: </span><span style=\"color: #00af00; text-decoration-color: #00af00\">5,494,400</span> (20.96 MB)\n",
       "</pre>\n"
      ],
      "text/plain": [
       "\u001b[1m Total params: \u001b[0m\u001b[38;5;34m5,494,400\u001b[0m (20.96 MB)\n"
      ]
     },
     "metadata": {},
     "output_type": "display_data"
    },
    {
     "data": {
      "text/html": [
       "<pre style=\"white-space:pre;overflow-x:auto;line-height:normal;font-family:Menlo,'DejaVu Sans Mono',consolas,'Courier New',monospace\"><span style=\"font-weight: bold\"> Trainable params: </span><span style=\"color: #00af00; text-decoration-color: #00af00\">1,831,466</span> (6.99 MB)\n",
       "</pre>\n"
      ],
      "text/plain": [
       "\u001b[1m Trainable params: \u001b[0m\u001b[38;5;34m1,831,466\u001b[0m (6.99 MB)\n"
      ]
     },
     "metadata": {},
     "output_type": "display_data"
    },
    {
     "data": {
      "text/html": [
       "<pre style=\"white-space:pre;overflow-x:auto;line-height:normal;font-family:Menlo,'DejaVu Sans Mono',consolas,'Courier New',monospace\"><span style=\"font-weight: bold\"> Non-trainable params: </span><span style=\"color: #00af00; text-decoration-color: #00af00\">0</span> (0.00 B)\n",
       "</pre>\n"
      ],
      "text/plain": [
       "\u001b[1m Non-trainable params: \u001b[0m\u001b[38;5;34m0\u001b[0m (0.00 B)\n"
      ]
     },
     "metadata": {},
     "output_type": "display_data"
    },
    {
     "data": {
      "text/html": [
       "<pre style=\"white-space:pre;overflow-x:auto;line-height:normal;font-family:Menlo,'DejaVu Sans Mono',consolas,'Courier New',monospace\"><span style=\"font-weight: bold\"> Optimizer params: </span><span style=\"color: #00af00; text-decoration-color: #00af00\">3,662,934</span> (13.97 MB)\n",
       "</pre>\n"
      ],
      "text/plain": [
       "\u001b[1m Optimizer params: \u001b[0m\u001b[38;5;34m3,662,934\u001b[0m (13.97 MB)\n"
      ]
     },
     "metadata": {},
     "output_type": "display_data"
    },
    {
     "name": "stdout",
     "output_type": "stream",
     "text": [
      "Accuracy/Loss : [0.1026962399482727, 0.9772122502326965, 0.9772122502326965, 0.9772122502326965] --- batch : 512, learning rate : 5.1975e-05\n",
      "---------------------------------------------------------------\n",
      "---------------------------------------------------------------\n",
      "\n",
      "TRAIN\n",
      "(401620, 60, 3)\n",
      "\u001b[1m785/785\u001b[0m \u001b[32m━━━━━━━━━━━━━━━━━━━━\u001b[0m\u001b[37m\u001b[0m \u001b[1m9s\u001b[0m 9ms/step\n",
      "[[297779   1618    168     25    224    186]\n",
      " [   244  25595     80      0    160     21]\n",
      " [    48   1404  51288   1055   3864     41]\n",
      " [     7    100   2335   5045    312      1]\n",
      " [     8    107   1310    761   2465    249]\n",
      " [    75    112      4      1    279   4649]]\n",
      "              precision    recall  f1-score   support\n",
      "\n",
      "           0       1.00      0.99      1.00    300000\n",
      "           1       0.88      0.98      0.93     26100\n",
      "           2       0.93      0.89      0.91     57700\n",
      "           3       0.73      0.65      0.69      7800\n",
      "           4       0.34      0.50      0.40      4900\n",
      "           5       0.90      0.91      0.91      5120\n",
      "\n",
      "    accuracy                           0.96    401620\n",
      "   macro avg       0.80      0.82      0.81    401620\n",
      "weighted avg       0.97      0.96      0.96    401620\n",
      "\n",
      "Balanced_accuracy_score: 82.0%\n",
      "\n",
      "Precision:  0.7976517622635074\n",
      "Recall 0.8199975666638387\n",
      "Fscore 0.8051719566293416\n",
      "Multiclass_AUC: 0.9888143784669433\n",
      "---------------------------------------------------------------\n",
      "---------------------------------------------------------------\n",
      "\n",
      "VALIDATION\n",
      "(466040, 60, 3)\n",
      "\u001b[1m911/911\u001b[0m \u001b[32m━━━━━━━━━━━━━━━━━━━━\u001b[0m\u001b[37m\u001b[0m \u001b[1m7s\u001b[0m 8ms/step\n",
      "[[417240   2103    350      6    467    494]\n",
      " [   152   7591    109      1    143     24]\n",
      " [    22    821  25465    634   1833     25]\n",
      " [    10     90   1959   3196    262      3]\n",
      " [     4     35    436    239    467     19]\n",
      " [    31     47     26      1    274   1461]]\n",
      "              precision    recall  f1-score   support\n",
      "\n",
      "           0       1.00      0.99      1.00    420660\n",
      "           1       0.71      0.95      0.81      8020\n",
      "           2       0.90      0.88      0.89     28800\n",
      "           3       0.78      0.58      0.67      5520\n",
      "           4       0.14      0.39      0.20      1200\n",
      "           5       0.72      0.79      0.76      1840\n",
      "\n",
      "    accuracy                           0.98    466040\n",
      "   macro avg       0.71      0.76      0.72    466040\n",
      "weighted avg       0.98      0.98      0.98    466040\n",
      "\n",
      "Balanced_accuracy_score: 76.41%\n",
      "\n",
      "Precision:  0.7081211605230684\n",
      "Recall 0.7641256581351842\n",
      "Fscore 0.7202270270416591\n",
      "Multiclass_AUC: 0.9899596618954547\n",
      "---------------------------------------------------------------\n",
      "---------------------------------------------------------------\n",
      "\n",
      "TEST\n",
      "(615120, 60, 3)\n",
      "\u001b[1m1202/1202\u001b[0m \u001b[32m━━━━━━━━━━━━━━━━━━━━\u001b[0m\u001b[37m\u001b[0m \u001b[1m9s\u001b[0m 7ms/step\n",
      "[[551720   2689    439     20    456    396]\n",
      " [   335  11728     81      1    233     22]\n",
      " [    39    796  28047   1258   2317     43]\n",
      " [    10     73   2283   4527    482     25]\n",
      " [   510     60    830   1278   1242    580]\n",
      " [    41     52     98      0     68   2341]]\n",
      "              precision    recall  f1-score   support\n",
      "\n",
      "           0       1.00      0.99      1.00    555720\n",
      "           1       0.76      0.95      0.84     12400\n",
      "           2       0.88      0.86      0.87     32500\n",
      "           3       0.64      0.61      0.63      7400\n",
      "           4       0.26      0.28      0.27      4500\n",
      "           5       0.69      0.90      0.78      2600\n",
      "\n",
      "    accuracy                           0.97    615120\n",
      "   macro avg       0.70      0.76      0.73    615120\n",
      "weighted avg       0.98      0.97      0.98    615120\n",
      "\n",
      "Balanced_accuracy_score: 76.5%\n",
      "\n",
      "Precision:  0.7045959355333301\n",
      "Recall 0.7649557616180402\n",
      "Fscore 0.7306181829090918\n",
      "Multiclass_AUC: 0.9802579781525825\n",
      "---------------------------------------------------------------\n",
      "---------------------------------------------------------------\n",
      "2\n",
      "Epoch 1/120\n",
      "\u001b[1m12551/12551\u001b[0m \u001b[32m━━━━━━━━━━━━━━━━━━━━\u001b[0m\u001b[37m\u001b[0m \u001b[1m187s\u001b[0m 13ms/step - accuracy: 0.8486 - loss: 0.9238 - weighted_accuracy: 0.6256 - val_accuracy: 0.9762 - val_loss: 0.1097 - val_weighted_accuracy: 0.9762 - learning_rate: 5.1975e-05\n",
      "Epoch 2/120\n",
      "\u001b[1m12551/12551\u001b[0m \u001b[32m━━━━━━━━━━━━━━━━━━━━\u001b[0m\u001b[37m\u001b[0m \u001b[1m152s\u001b[0m 12ms/step - accuracy: 0.9356 - loss: 0.6257 - weighted_accuracy: 0.7531 - val_accuracy: 0.9771 - val_loss: 0.1085 - val_weighted_accuracy: 0.9771 - learning_rate: 5.1975e-05\n",
      "Epoch 3/120\n",
      "\u001b[1m12551/12551\u001b[0m \u001b[32m━━━━━━━━━━━━━━━━━━━━\u001b[0m\u001b[37m\u001b[0m \u001b[1m154s\u001b[0m 12ms/step - accuracy: 0.9425 - loss: 0.5798 - weighted_accuracy: 0.7764 - val_accuracy: 0.9758 - val_loss: 0.1151 - val_weighted_accuracy: 0.9758 - learning_rate: 5.1975e-05\n",
      "Epoch 4/120\n",
      "\u001b[1m12551/12551\u001b[0m \u001b[32m━━━━━━━━━━━━━━━━━━━━\u001b[0m\u001b[37m\u001b[0m \u001b[1m158s\u001b[0m 13ms/step - accuracy: 0.9465 - loss: 0.5455 - weighted_accuracy: 0.7903 - val_accuracy: 0.9671 - val_loss: 0.1293 - val_weighted_accuracy: 0.9671 - learning_rate: 5.1975e-05\n",
      "Epoch 5/120\n",
      "\u001b[1m12551/12551\u001b[0m \u001b[32m━━━━━━━━━━━━━━━━━━━━\u001b[0m\u001b[37m\u001b[0m \u001b[1m161s\u001b[0m 13ms/step - accuracy: 0.9492 - loss: 0.5222 - weighted_accuracy: 0.8001 - val_accuracy: 0.9783 - val_loss: 0.1003 - val_weighted_accuracy: 0.9783 - learning_rate: 5.1975e-05\n",
      "Epoch 6/120\n",
      "\u001b[1m12551/12551\u001b[0m \u001b[32m━━━━━━━━━━━━━━━━━━━━\u001b[0m\u001b[37m\u001b[0m \u001b[1m194s\u001b[0m 15ms/step - accuracy: 0.9491 - loss: 0.5012 - weighted_accuracy: 0.8067 - val_accuracy: 0.9773 - val_loss: 0.1071 - val_weighted_accuracy: 0.9773 - learning_rate: 5.1975e-05\n",
      "Epoch 7/120\n",
      "\u001b[1m12551/12551\u001b[0m \u001b[32m━━━━━━━━━━━━━━━━━━━━\u001b[0m\u001b[37m\u001b[0m \u001b[1m159s\u001b[0m 13ms/step - accuracy: 0.9508 - loss: 0.4833 - weighted_accuracy: 0.8139 - val_accuracy: 0.9765 - val_loss: 0.1096 - val_weighted_accuracy: 0.9765 - learning_rate: 5.1975e-05\n",
      "Epoch 8/120\n",
      "\u001b[1m12550/12551\u001b[0m \u001b[32m━━━━━━━━━━━━━━━━━━━\u001b[0m\u001b[37m━\u001b[0m \u001b[1m0s\u001b[0m 9ms/step - accuracy: 0.9503 - loss: 0.4840 - weighted_accuracy: 0.8140\n",
      "Epoch 8: ReduceLROnPlateau reducing learning rate to 2.5987499611801468e-05.\n",
      "\u001b[1m12551/12551\u001b[0m \u001b[32m━━━━━━━━━━━━━━━━━━━━\u001b[0m\u001b[37m\u001b[0m \u001b[1m160s\u001b[0m 13ms/step - accuracy: 0.9503 - loss: 0.4840 - weighted_accuracy: 0.8140 - val_accuracy: 0.9781 - val_loss: 0.1027 - val_weighted_accuracy: 0.9781 - learning_rate: 5.1975e-05\n",
      "Epoch 9/120\n",
      "\u001b[1m12551/12551\u001b[0m \u001b[32m━━━━━━━━━━━━━━━━━━━━\u001b[0m\u001b[37m\u001b[0m \u001b[1m161s\u001b[0m 13ms/step - accuracy: 0.9542 - loss: 0.4389 - weighted_accuracy: 0.8309 - val_accuracy: 0.9711 - val_loss: 0.1162 - val_weighted_accuracy: 0.9711 - learning_rate: 2.5987e-05\n",
      "Epoch 10/120\n",
      "\u001b[1m12551/12551\u001b[0m \u001b[32m━━━━━━━━━━━━━━━━━━━━\u001b[0m\u001b[37m\u001b[0m \u001b[1m163s\u001b[0m 13ms/step - accuracy: 0.9525 - loss: 0.4345 - weighted_accuracy: 0.8339 - val_accuracy: 0.9697 - val_loss: 0.1214 - val_weighted_accuracy: 0.9697 - learning_rate: 2.5987e-05\n"
     ]
    },
    {
     "data": {
      "text/html": [
       "<pre style=\"white-space:pre;overflow-x:auto;line-height:normal;font-family:Menlo,'DejaVu Sans Mono',consolas,'Courier New',monospace\"><span style=\"font-weight: bold\">Model: \"functional\"</span>\n",
       "</pre>\n"
      ],
      "text/plain": [
       "\u001b[1mModel: \"functional\"\u001b[0m\n"
      ]
     },
     "metadata": {},
     "output_type": "display_data"
    },
    {
     "data": {
      "text/html": [
       "<pre style=\"white-space:pre;overflow-x:auto;line-height:normal;font-family:Menlo,'DejaVu Sans Mono',consolas,'Courier New',monospace\">┏━━━━━━━━━━━━━━━━━━━━━━━━━━━━━━━━━┳━━━━━━━━━━━━━━━━━━━━━━━━┳━━━━━━━━━━━━━━━┓\n",
       "┃<span style=\"font-weight: bold\"> Layer (type)                    </span>┃<span style=\"font-weight: bold\"> Output Shape           </span>┃<span style=\"font-weight: bold\">       Param # </span>┃\n",
       "┡━━━━━━━━━━━━━━━━━━━━━━━━━━━━━━━━━╇━━━━━━━━━━━━━━━━━━━━━━━━╇━━━━━━━━━━━━━━━┩\n",
       "│ input_layer (<span style=\"color: #0087ff; text-decoration-color: #0087ff\">InputLayer</span>)        │ (<span style=\"color: #00d7ff; text-decoration-color: #00d7ff\">None</span>, <span style=\"color: #00af00; text-decoration-color: #00af00\">60</span>, <span style=\"color: #00af00; text-decoration-color: #00af00\">3</span>)          │             <span style=\"color: #00af00; text-decoration-color: #00af00\">0</span> │\n",
       "├─────────────────────────────────┼────────────────────────┼───────────────┤\n",
       "│ conv1d (<span style=\"color: #0087ff; text-decoration-color: #0087ff\">Conv1D</span>)                 │ (<span style=\"color: #00d7ff; text-decoration-color: #00d7ff\">None</span>, <span style=\"color: #00af00; text-decoration-color: #00af00\">3</span>, <span style=\"color: #00af00; text-decoration-color: #00af00\">128</span>)         │         <span style=\"color: #00af00; text-decoration-color: #00af00\">7,808</span> │\n",
       "├─────────────────────────────────┼────────────────────────┼───────────────┤\n",
       "│ patch_encoder (<span style=\"color: #0087ff; text-decoration-color: #0087ff\">PatchEncoder</span>)    │ (<span style=\"color: #00d7ff; text-decoration-color: #00d7ff\">None</span>, <span style=\"color: #00af00; text-decoration-color: #00af00\">4</span>, <span style=\"color: #00af00; text-decoration-color: #00af00\">128</span>)         │        <span style=\"color: #00af00; text-decoration-color: #00af00\">17,024</span> │\n",
       "├─────────────────────────────────┼────────────────────────┼───────────────┤\n",
       "│ transformer_encoder             │ (<span style=\"color: #00d7ff; text-decoration-color: #00d7ff\">None</span>, <span style=\"color: #00af00; text-decoration-color: #00af00\">4</span>, <span style=\"color: #00af00; text-decoration-color: #00af00\">128</span>)         │     <span style=\"color: #00af00; text-decoration-color: #00af00\">1,782,016</span> │\n",
       "│ (<span style=\"color: #0087ff; text-decoration-color: #0087ff\">TransformerEncoder</span>)            │                        │               │\n",
       "├─────────────────────────────────┼────────────────────────┼───────────────┤\n",
       "│ global_average_pooling1d        │ (<span style=\"color: #00d7ff; text-decoration-color: #00d7ff\">None</span>, <span style=\"color: #00af00; text-decoration-color: #00af00\">128</span>)            │             <span style=\"color: #00af00; text-decoration-color: #00af00\">0</span> │\n",
       "│ (<span style=\"color: #0087ff; text-decoration-color: #0087ff\">GlobalAveragePooling1D</span>)        │                        │               │\n",
       "├─────────────────────────────────┼────────────────────────┼───────────────┤\n",
       "│ mlp_3 (<span style=\"color: #0087ff; text-decoration-color: #0087ff\">MLP</span>)                     │ (<span style=\"color: #00d7ff; text-decoration-color: #00d7ff\">None</span>, <span style=\"color: #00af00; text-decoration-color: #00af00\">60</span>)             │        <span style=\"color: #00af00; text-decoration-color: #00af00\">24,252</span> │\n",
       "├─────────────────────────────────┼────────────────────────┼───────────────┤\n",
       "│ dense_9 (<span style=\"color: #0087ff; text-decoration-color: #0087ff\">Dense</span>)                 │ (<span style=\"color: #00d7ff; text-decoration-color: #00d7ff\">None</span>, <span style=\"color: #00af00; text-decoration-color: #00af00\">6</span>)              │           <span style=\"color: #00af00; text-decoration-color: #00af00\">366</span> │\n",
       "└─────────────────────────────────┴────────────────────────┴───────────────┘\n",
       "</pre>\n"
      ],
      "text/plain": [
       "┏━━━━━━━━━━━━━━━━━━━━━━━━━━━━━━━━━┳━━━━━━━━━━━━━━━━━━━━━━━━┳━━━━━━━━━━━━━━━┓\n",
       "┃\u001b[1m \u001b[0m\u001b[1mLayer (type)                   \u001b[0m\u001b[1m \u001b[0m┃\u001b[1m \u001b[0m\u001b[1mOutput Shape          \u001b[0m\u001b[1m \u001b[0m┃\u001b[1m \u001b[0m\u001b[1m      Param #\u001b[0m\u001b[1m \u001b[0m┃\n",
       "┡━━━━━━━━━━━━━━━━━━━━━━━━━━━━━━━━━╇━━━━━━━━━━━━━━━━━━━━━━━━╇━━━━━━━━━━━━━━━┩\n",
       "│ input_layer (\u001b[38;5;33mInputLayer\u001b[0m)        │ (\u001b[38;5;45mNone\u001b[0m, \u001b[38;5;34m60\u001b[0m, \u001b[38;5;34m3\u001b[0m)          │             \u001b[38;5;34m0\u001b[0m │\n",
       "├─────────────────────────────────┼────────────────────────┼───────────────┤\n",
       "│ conv1d (\u001b[38;5;33mConv1D\u001b[0m)                 │ (\u001b[38;5;45mNone\u001b[0m, \u001b[38;5;34m3\u001b[0m, \u001b[38;5;34m128\u001b[0m)         │         \u001b[38;5;34m7,808\u001b[0m │\n",
       "├─────────────────────────────────┼────────────────────────┼───────────────┤\n",
       "│ patch_encoder (\u001b[38;5;33mPatchEncoder\u001b[0m)    │ (\u001b[38;5;45mNone\u001b[0m, \u001b[38;5;34m4\u001b[0m, \u001b[38;5;34m128\u001b[0m)         │        \u001b[38;5;34m17,024\u001b[0m │\n",
       "├─────────────────────────────────┼────────────────────────┼───────────────┤\n",
       "│ transformer_encoder             │ (\u001b[38;5;45mNone\u001b[0m, \u001b[38;5;34m4\u001b[0m, \u001b[38;5;34m128\u001b[0m)         │     \u001b[38;5;34m1,782,016\u001b[0m │\n",
       "│ (\u001b[38;5;33mTransformerEncoder\u001b[0m)            │                        │               │\n",
       "├─────────────────────────────────┼────────────────────────┼───────────────┤\n",
       "│ global_average_pooling1d        │ (\u001b[38;5;45mNone\u001b[0m, \u001b[38;5;34m128\u001b[0m)            │             \u001b[38;5;34m0\u001b[0m │\n",
       "│ (\u001b[38;5;33mGlobalAveragePooling1D\u001b[0m)        │                        │               │\n",
       "├─────────────────────────────────┼────────────────────────┼───────────────┤\n",
       "│ mlp_3 (\u001b[38;5;33mMLP\u001b[0m)                     │ (\u001b[38;5;45mNone\u001b[0m, \u001b[38;5;34m60\u001b[0m)             │        \u001b[38;5;34m24,252\u001b[0m │\n",
       "├─────────────────────────────────┼────────────────────────┼───────────────┤\n",
       "│ dense_9 (\u001b[38;5;33mDense\u001b[0m)                 │ (\u001b[38;5;45mNone\u001b[0m, \u001b[38;5;34m6\u001b[0m)              │           \u001b[38;5;34m366\u001b[0m │\n",
       "└─────────────────────────────────┴────────────────────────┴───────────────┘\n"
      ]
     },
     "metadata": {},
     "output_type": "display_data"
    },
    {
     "data": {
      "text/html": [
       "<pre style=\"white-space:pre;overflow-x:auto;line-height:normal;font-family:Menlo,'DejaVu Sans Mono',consolas,'Courier New',monospace\"><span style=\"font-weight: bold\"> Total params: </span><span style=\"color: #00af00; text-decoration-color: #00af00\">5,494,400</span> (20.96 MB)\n",
       "</pre>\n"
      ],
      "text/plain": [
       "\u001b[1m Total params: \u001b[0m\u001b[38;5;34m5,494,400\u001b[0m (20.96 MB)\n"
      ]
     },
     "metadata": {},
     "output_type": "display_data"
    },
    {
     "data": {
      "text/html": [
       "<pre style=\"white-space:pre;overflow-x:auto;line-height:normal;font-family:Menlo,'DejaVu Sans Mono',consolas,'Courier New',monospace\"><span style=\"font-weight: bold\"> Trainable params: </span><span style=\"color: #00af00; text-decoration-color: #00af00\">1,831,466</span> (6.99 MB)\n",
       "</pre>\n"
      ],
      "text/plain": [
       "\u001b[1m Trainable params: \u001b[0m\u001b[38;5;34m1,831,466\u001b[0m (6.99 MB)\n"
      ]
     },
     "metadata": {},
     "output_type": "display_data"
    },
    {
     "data": {
      "text/html": [
       "<pre style=\"white-space:pre;overflow-x:auto;line-height:normal;font-family:Menlo,'DejaVu Sans Mono',consolas,'Courier New',monospace\"><span style=\"font-weight: bold\"> Non-trainable params: </span><span style=\"color: #00af00; text-decoration-color: #00af00\">0</span> (0.00 B)\n",
       "</pre>\n"
      ],
      "text/plain": [
       "\u001b[1m Non-trainable params: \u001b[0m\u001b[38;5;34m0\u001b[0m (0.00 B)\n"
      ]
     },
     "metadata": {},
     "output_type": "display_data"
    },
    {
     "data": {
      "text/html": [
       "<pre style=\"white-space:pre;overflow-x:auto;line-height:normal;font-family:Menlo,'DejaVu Sans Mono',consolas,'Courier New',monospace\"><span style=\"font-weight: bold\"> Optimizer params: </span><span style=\"color: #00af00; text-decoration-color: #00af00\">3,662,934</span> (13.97 MB)\n",
       "</pre>\n"
      ],
      "text/plain": [
       "\u001b[1m Optimizer params: \u001b[0m\u001b[38;5;34m3,662,934\u001b[0m (13.97 MB)\n"
      ]
     },
     "metadata": {},
     "output_type": "display_data"
    },
    {
     "name": "stdout",
     "output_type": "stream",
     "text": [
      "Accuracy/Loss : [0.10033579915761948, 0.9783087372779846, 0.9783087372779846, 0.9783087372779846] --- batch : 512, learning rate : 5.1975e-05\n",
      "---------------------------------------------------------------\n",
      "---------------------------------------------------------------\n",
      "\n",
      "TRAIN\n",
      "(401620, 60, 3)\n",
      "\u001b[1m785/785\u001b[0m \u001b[32m━━━━━━━━━━━━━━━━━━━━\u001b[0m\u001b[37m\u001b[0m \u001b[1m9s\u001b[0m 9ms/step\n",
      "[[297674   1791    219     21     83    212]\n",
      " [   244  25666     97      0     54     39]\n",
      " [    47   1622  53033    999   1923     76]\n",
      " [     6    114   2466   5104    107      3]\n",
      " [     8    122   1492    831   1926    521]\n",
      " [    81    107      9      1     29   4893]]\n",
      "              precision    recall  f1-score   support\n",
      "\n",
      "           0       1.00      0.99      1.00    300000\n",
      "           1       0.87      0.98      0.92     26100\n",
      "           2       0.93      0.92      0.92     57700\n",
      "           3       0.73      0.65      0.69      7800\n",
      "           4       0.47      0.39      0.43      4900\n",
      "           5       0.85      0.96      0.90      5120\n",
      "\n",
      "    accuracy                           0.97    401620\n",
      "   macro avg       0.81      0.82      0.81    401620\n",
      "weighted avg       0.97      0.97      0.97    401620\n",
      "\n",
      "Balanced_accuracy_score: 81.63%\n",
      "\n",
      "Precision:  0.8081947746852375\n",
      "Recall 0.8163031155626616\n",
      "Fscore 0.8102834021759109\n",
      "Multiclass_AUC: 0.9889520821869587\n",
      "---------------------------------------------------------------\n",
      "---------------------------------------------------------------\n",
      "\n",
      "VALIDATION\n",
      "(466040, 60, 3)\n",
      "\u001b[1m911/911\u001b[0m \u001b[32m━━━━━━━━━━━━━━━━━━━━\u001b[0m\u001b[37m\u001b[0m \u001b[1m7s\u001b[0m 8ms/step\n",
      "[[416787   2748    409      1    187    528]\n",
      " [   143   7684    100      0     46     47]\n",
      " [    21    941  26424    520    835     59]\n",
      " [    10     96   2077   3236     97      4]\n",
      " [     4     43    509    252    312     80]\n",
      " [    37     46     60      1    208   1488]]\n",
      "              precision    recall  f1-score   support\n",
      "\n",
      "           0       1.00      0.99      1.00    420660\n",
      "           1       0.66      0.96      0.78      8020\n",
      "           2       0.89      0.92      0.91     28800\n",
      "           3       0.81      0.59      0.68      5520\n",
      "           4       0.19      0.26      0.22      1200\n",
      "           5       0.67      0.81      0.74      1840\n",
      "\n",
      "    accuracy                           0.98    466040\n",
      "   macro avg       0.70      0.75      0.72    466040\n",
      "weighted avg       0.98      0.98      0.98    466040\n",
      "\n",
      "Balanced_accuracy_score: 75.36%\n",
      "\n",
      "Precision:  0.704051930118735\n",
      "Recall 0.75355421898264\n",
      "Fscore 0.7193817500026358\n",
      "Multiclass_AUC: 0.9894881327679611\n",
      "---------------------------------------------------------------\n",
      "---------------------------------------------------------------\n",
      "\n",
      "TEST\n",
      "(615120, 60, 3)\n",
      "\u001b[1m1202/1202\u001b[0m \u001b[32m━━━━━━━━━━━━━━━━━━━━\u001b[0m\u001b[37m\u001b[0m \u001b[1m9s\u001b[0m 8ms/step\n",
      "[[551604   2971    520     15    185    425]\n",
      " [   332  11807     95      0     92     74]\n",
      " [    36    896  28958   1310   1233     67]\n",
      " [     6     82   2319   4681    302     10]\n",
      " [   504     79   1000   1326   1036    555]\n",
      " [    46     49     94      0     54   2357]]\n",
      "              precision    recall  f1-score   support\n",
      "\n",
      "           0       1.00      0.99      1.00    555720\n",
      "           1       0.74      0.95      0.83     12400\n",
      "           2       0.88      0.89      0.88     32500\n",
      "           3       0.64      0.63      0.64      7400\n",
      "           4       0.36      0.23      0.28      4500\n",
      "           5       0.68      0.91      0.77      2600\n",
      "\n",
      "    accuracy                           0.98    615120\n",
      "   macro avg       0.72      0.77      0.73    615120\n",
      "weighted avg       0.98      0.98      0.98    615120\n",
      "\n",
      "Balanced_accuracy_score: 76.75%\n",
      "\n",
      "Precision:  0.7151194570957689\n",
      "Recall 0.7675190746090562\n",
      "Fscore 0.7340776458635778\n",
      "Multiclass_AUC: 0.9780931072389946\n",
      "Main results (average of 3 iterations)\n"
     ]
    }
   ],
   "source": [
    "#Train and evaluate using 90% Threshold dataset\n",
    "dfRes_90=run_train_and_test('PREPROCESED_RAW_ALL_DATA_FREE_LIVING_EMA_LABELED_THRES_0.9_AP_V3.mat')"
   ]
  },
  {
   "cell_type": "code",
   "execution_count": 16,
   "metadata": {
    "id": "lnSnYsl_9sBC"
   },
   "outputs": [],
   "source": [
    "#Results at 0% Threshold\n",
    "dfRes_0"
   ]
  },
  {
   "cell_type": "code",
   "execution_count": 17,
   "metadata": {
    "id": "vmHftXbs9sBC"
   },
   "outputs": [],
   "source": [
    "#Results at 50% Threshold\n",
    "dfRes_50"
   ]
  },
  {
   "cell_type": "code",
   "execution_count": 18,
   "metadata": {
    "id": "3r_xDIaT9sBC"
   },
   "outputs": [],
   "source": [
    "#Results at 75% Threshold\n",
    "dfRes_75"
   ]
  },
  {
   "cell_type": "code",
   "execution_count": 19,
   "metadata": {
    "colab": {
     "base_uri": "https://localhost:8080/",
     "height": 112
    },
    "id": "-gTDyZuo9sBC",
    "outputId": "9e0d71b5-0080-4389-bf14-b77d094efe9a"
   },
   "outputs": [
    {
     "data": {
      "text/html": [
       "<style type=\"text/css\">\n",
       "</style>\n",
       "<table id=\"T_e54cc\" class=\"dataframe\">\n",
       "  <thead>\n",
       "    <tr>\n",
       "      <th id=\"T_e54cc_level0_col0\" class=\"col_heading level0 col0\" >Data</th>\n",
       "      <th id=\"T_e54cc_level0_col1\" class=\"col_heading level0 col1\" >Accuracy</th>\n",
       "      <th id=\"T_e54cc_level0_col2\" class=\"col_heading level0 col2\" >Precision</th>\n",
       "      <th id=\"T_e54cc_level0_col3\" class=\"col_heading level0 col3\" >Recall</th>\n",
       "      <th id=\"T_e54cc_level0_col4\" class=\"col_heading level0 col4\" >Fscore</th>\n",
       "      <th id=\"T_e54cc_level0_col5\" class=\"col_heading level0 col5\" >AUC</th>\n",
       "    </tr>\n",
       "  </thead>\n",
       "  <tbody>\n",
       "    <tr>\n",
       "      <td id=\"T_e54cc_row0_col0\" class=\"data row0 col0\" >Train</td>\n",
       "      <td id=\"T_e54cc_row0_col1\" class=\"data row0 col1\" >0.829598</td>\n",
       "      <td id=\"T_e54cc_row0_col2\" class=\"data row0 col2\" >0.810208</td>\n",
       "      <td id=\"T_e54cc_row0_col3\" class=\"data row0 col3\" >0.829598</td>\n",
       "      <td id=\"T_e54cc_row0_col4\" class=\"data row0 col4\" >0.816959</td>\n",
       "      <td id=\"T_e54cc_row0_col5\" class=\"data row0 col5\" >0.990248</td>\n",
       "    </tr>\n",
       "    <tr>\n",
       "      <td id=\"T_e54cc_row1_col0\" class=\"data row1 col0\" >Test</td>\n",
       "      <td id=\"T_e54cc_row1_col1\" class=\"data row1 col1\" >0.765215</td>\n",
       "      <td id=\"T_e54cc_row1_col2\" class=\"data row1 col2\" >0.705921</td>\n",
       "      <td id=\"T_e54cc_row1_col3\" class=\"data row1 col3\" >0.765215</td>\n",
       "      <td id=\"T_e54cc_row1_col4\" class=\"data row1 col4\" >0.730000</td>\n",
       "      <td id=\"T_e54cc_row1_col5\" class=\"data row1 col5\" >0.975556</td>\n",
       "    </tr>\n",
       "  </tbody>\n",
       "</table>\n"
      ],
      "text/plain": [
       "<pandas.io.formats.style.Styler at 0x7d1def0515e0>"
      ]
     },
     "execution_count": 19,
     "metadata": {},
     "output_type": "execute_result"
    }
   ],
   "source": [
    "#Results at 90% Threshold\n",
    "dfRes_90"
   ]
  }
 ],
 "metadata": {
  "accelerator": "GPU",
  "colab": {
   "gpuType": "T4",
   "provenance": []
  },
  "kernelspec": {
   "display_name": "Python 3 (ipykernel)",
   "language": "python",
   "name": "python3"
  },
  "language_info": {
   "codemirror_mode": {
    "name": "ipython",
    "version": 3
   },
   "file_extension": ".py",
   "mimetype": "text/x-python",
   "name": "python",
   "nbconvert_exporter": "python",
   "pygments_lexer": "ipython3",
   "version": "3.10.9"
  }
 },
 "nbformat": 4,
 "nbformat_minor": 1
}
